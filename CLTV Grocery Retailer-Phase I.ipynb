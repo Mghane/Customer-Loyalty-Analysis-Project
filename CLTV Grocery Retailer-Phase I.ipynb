{
 "cells": [
  {
   "cell_type": "markdown",
   "metadata": {},
   "source": [
    "## First Phase (EDA on small sample to get general insight)\n",
    "#### Created by: Mehdi Ghane\n",
    "#### Date: April 2020"
   ]
  },
  {
   "cell_type": "code",
   "execution_count": 1,
   "metadata": {},
   "outputs": [],
   "source": [
    "import numpy as np\n",
    "import pandas as pd\n",
    "import matplotlib.pyplot as plt\n",
    "import seaborn as sns\n",
    "import os\n",
    "import datetime as dt\n",
    "%matplotlib inline\n",
    "plt.style.use('fivethirtyeight')"
   ]
  },
  {
   "cell_type": "code",
   "execution_count": 2,
   "metadata": {},
   "outputs": [],
   "source": [
    "df=pd.read_excel('In store Transactions Sample.xlsx', sheet_name='Transactions')"
   ]
  },
  {
   "cell_type": "code",
   "execution_count": 372,
   "metadata": {},
   "outputs": [
    {
     "data": {
      "text/html": [
       "<div>\n",
       "<style scoped>\n",
       "    .dataframe tbody tr th:only-of-type {\n",
       "        vertical-align: middle;\n",
       "    }\n",
       "\n",
       "    .dataframe tbody tr th {\n",
       "        vertical-align: top;\n",
       "    }\n",
       "\n",
       "    .dataframe thead th {\n",
       "        text-align: right;\n",
       "    }\n",
       "</style>\n",
       "<table border=\"1\" class=\"dataframe\">\n",
       "  <thead>\n",
       "    <tr style=\"text-align: right;\">\n",
       "      <th></th>\n",
       "      <th>SHOP_WEEK</th>\n",
       "      <th>SHOP_DATE</th>\n",
       "      <th>SHOP_WEEKDAY</th>\n",
       "      <th>SHOP_HOUR</th>\n",
       "      <th>QUANTITY</th>\n",
       "      <th>SPEND</th>\n",
       "      <th>PROD_CODE</th>\n",
       "      <th>PROD_CODE_10</th>\n",
       "      <th>PROD_CODE_20</th>\n",
       "      <th>PROD_CODE_30</th>\n",
       "      <th>...</th>\n",
       "      <th>STORE_FORMAT</th>\n",
       "      <th>STORE_REGION</th>\n",
       "      <th>TOTAL_PRICE</th>\n",
       "      <th>MONTH</th>\n",
       "      <th>DAY</th>\n",
       "      <th>InvoiceDate</th>\n",
       "      <th>CohortDate</th>\n",
       "      <th>Cohort_Index</th>\n",
       "      <th>invoice_week</th>\n",
       "      <th>cohort_week</th>\n",
       "    </tr>\n",
       "  </thead>\n",
       "  <tbody>\n",
       "    <tr>\n",
       "      <td>0</td>\n",
       "      <td>200801</td>\n",
       "      <td>2008-02-27</td>\n",
       "      <td>4</td>\n",
       "      <td>21</td>\n",
       "      <td>1</td>\n",
       "      <td>1.83</td>\n",
       "      <td>PRD0900159</td>\n",
       "      <td>CL00029</td>\n",
       "      <td>DEP00008</td>\n",
       "      <td>G00004</td>\n",
       "      <td>...</td>\n",
       "      <td>LS</td>\n",
       "      <td>E02</td>\n",
       "      <td>1.83</td>\n",
       "      <td>2</td>\n",
       "      <td>27</td>\n",
       "      <td>2008-02-01</td>\n",
       "      <td>2008-02-01</td>\n",
       "      <td>1.0</td>\n",
       "      <td>9</td>\n",
       "      <td>9.0</td>\n",
       "    </tr>\n",
       "    <tr>\n",
       "      <td>1</td>\n",
       "      <td>200801</td>\n",
       "      <td>2008-02-27</td>\n",
       "      <td>4</td>\n",
       "      <td>21</td>\n",
       "      <td>1</td>\n",
       "      <td>0.86</td>\n",
       "      <td>PRD0900531</td>\n",
       "      <td>CL00026</td>\n",
       "      <td>DEP00008</td>\n",
       "      <td>G00004</td>\n",
       "      <td>...</td>\n",
       "      <td>LS</td>\n",
       "      <td>E02</td>\n",
       "      <td>0.86</td>\n",
       "      <td>2</td>\n",
       "      <td>27</td>\n",
       "      <td>2008-02-01</td>\n",
       "      <td>2008-02-01</td>\n",
       "      <td>1.0</td>\n",
       "      <td>9</td>\n",
       "      <td>9.0</td>\n",
       "    </tr>\n",
       "    <tr>\n",
       "      <td>2</td>\n",
       "      <td>200801</td>\n",
       "      <td>2008-02-26</td>\n",
       "      <td>3</td>\n",
       "      <td>16</td>\n",
       "      <td>1</td>\n",
       "      <td>1.12</td>\n",
       "      <td>PRD0900925</td>\n",
       "      <td>CL00035</td>\n",
       "      <td>DEP00009</td>\n",
       "      <td>G00004</td>\n",
       "      <td>...</td>\n",
       "      <td>LS</td>\n",
       "      <td>E02</td>\n",
       "      <td>1.12</td>\n",
       "      <td>2</td>\n",
       "      <td>26</td>\n",
       "      <td>2008-02-01</td>\n",
       "      <td>NaT</td>\n",
       "      <td>NaN</td>\n",
       "      <td>9</td>\n",
       "      <td>NaN</td>\n",
       "    </tr>\n",
       "  </tbody>\n",
       "</table>\n",
       "<p>3 rows × 30 columns</p>\n",
       "</div>"
      ],
      "text/plain": [
       "   SHOP_WEEK  SHOP_DATE  SHOP_WEEKDAY  SHOP_HOUR  QUANTITY  SPEND   PROD_CODE  \\\n",
       "0     200801 2008-02-27             4         21         1   1.83  PRD0900159   \n",
       "1     200801 2008-02-27             4         21         1   0.86  PRD0900531   \n",
       "2     200801 2008-02-26             3         16         1   1.12  PRD0900925   \n",
       "\n",
       "  PROD_CODE_10 PROD_CODE_20 PROD_CODE_30  ... STORE_FORMAT STORE_REGION  \\\n",
       "0      CL00029     DEP00008       G00004  ...           LS          E02   \n",
       "1      CL00026     DEP00008       G00004  ...           LS          E02   \n",
       "2      CL00035     DEP00009       G00004  ...           LS          E02   \n",
       "\n",
       "  TOTAL_PRICE MONTH  DAY InvoiceDate CohortDate Cohort_Index invoice_week  \\\n",
       "0        1.83     2   27  2008-02-01 2008-02-01          1.0            9   \n",
       "1        0.86     2   27  2008-02-01 2008-02-01          1.0            9   \n",
       "2        1.12     2   26  2008-02-01        NaT          NaN            9   \n",
       "\n",
       "  cohort_week  \n",
       "0         9.0  \n",
       "1         9.0  \n",
       "2         NaN  \n",
       "\n",
       "[3 rows x 30 columns]"
      ]
     },
     "execution_count": 372,
     "metadata": {},
     "output_type": "execute_result"
    }
   ],
   "source": [
    "df.head(3)"
   ]
  },
  {
   "cell_type": "code",
   "execution_count": 8,
   "metadata": {},
   "outputs": [
    {
     "name": "stdout",
     "output_type": "stream",
     "text": [
      "<class 'pandas.core.frame.DataFrame'>\n",
      "RangeIndex: 80661 entries, 0 to 80660\n",
      "Data columns (total 23 columns):\n",
      "SHOP_WEEK                   80661 non-null int64\n",
      "SHOP_DATE                   80661 non-null int64\n",
      "SHOP_WEEKDAY                80661 non-null int64\n",
      "SHOP_HOUR                   80661 non-null int64\n",
      "QUANTITY                    80661 non-null int64\n",
      "SPEND                       80661 non-null float64\n",
      "PROD_CODE                   80661 non-null object\n",
      "PROD_CODE_10                80661 non-null object\n",
      "PROD_CODE_20                80661 non-null object\n",
      "PROD_CODE_30                80661 non-null object\n",
      "PROD_CODE_40                80661 non-null object\n",
      "CUST_CODE                   64984 non-null object\n",
      "CUST_PRICE_SENSITIVITY      64984 non-null object\n",
      "CUST_LIFESTAGE              57917 non-null object\n",
      "BASKET_ID                   80661 non-null int64\n",
      "BASKET_SIZE                 80661 non-null object\n",
      "BASKET_PRICE_SENSITIVITY    80661 non-null object\n",
      "BASKET_TYPE                 80661 non-null object\n",
      "BASKET_DOMINANT_MISSION     80661 non-null object\n",
      "STORE_CODE                  80661 non-null object\n",
      "STORE_FORMAT                80661 non-null object\n",
      "STORE_REGION                80661 non-null object\n",
      "TOTAL_PRICE                 80661 non-null float64\n",
      "dtypes: float64(2), int64(6), object(15)\n",
      "memory usage: 14.2+ MB\n"
     ]
    }
   ],
   "source": [
    "df.info()"
   ]
  },
  {
   "cell_type": "markdown",
   "metadata": {},
   "source": [
    "**Calculate Total Purchase**"
   ]
  },
  {
   "cell_type": "code",
   "execution_count": 4,
   "metadata": {},
   "outputs": [],
   "source": [
    "df['TOTAL_PRICE']=df['QUANTITY']*df['SPEND']"
   ]
  },
  {
   "cell_type": "code",
   "execution_count": 10,
   "metadata": {},
   "outputs": [
    {
     "data": {
      "text/html": [
       "<div>\n",
       "<style scoped>\n",
       "    .dataframe tbody tr th:only-of-type {\n",
       "        vertical-align: middle;\n",
       "    }\n",
       "\n",
       "    .dataframe tbody tr th {\n",
       "        vertical-align: top;\n",
       "    }\n",
       "\n",
       "    .dataframe thead th {\n",
       "        text-align: right;\n",
       "    }\n",
       "</style>\n",
       "<table border=\"1\" class=\"dataframe\">\n",
       "  <thead>\n",
       "    <tr style=\"text-align: right;\">\n",
       "      <th></th>\n",
       "      <th>SHOP_WEEK</th>\n",
       "      <th>SHOP_DATE</th>\n",
       "      <th>SHOP_WEEKDAY</th>\n",
       "      <th>SHOP_HOUR</th>\n",
       "      <th>QUANTITY</th>\n",
       "      <th>SPEND</th>\n",
       "      <th>BASKET_ID</th>\n",
       "      <th>TOTAL_PRICE</th>\n",
       "    </tr>\n",
       "  </thead>\n",
       "  <tbody>\n",
       "    <tr>\n",
       "      <td>count</td>\n",
       "      <td>80661.000000</td>\n",
       "      <td>8.066100e+04</td>\n",
       "      <td>80661.000000</td>\n",
       "      <td>80661.000000</td>\n",
       "      <td>80661.000000</td>\n",
       "      <td>80661.000000</td>\n",
       "      <td>8.066100e+04</td>\n",
       "      <td>80661.000000</td>\n",
       "    </tr>\n",
       "    <tr>\n",
       "      <td>mean</td>\n",
       "      <td>200802.004624</td>\n",
       "      <td>2.008029e+07</td>\n",
       "      <td>3.979073</td>\n",
       "      <td>14.858879</td>\n",
       "      <td>1.593620</td>\n",
       "      <td>1.960677</td>\n",
       "      <td>9.941100e+14</td>\n",
       "      <td>4.349692</td>\n",
       "    </tr>\n",
       "    <tr>\n",
       "      <td>std</td>\n",
       "      <td>0.813637</td>\n",
       "      <td>3.481709e+01</td>\n",
       "      <td>1.993215</td>\n",
       "      <td>3.670340</td>\n",
       "      <td>1.884405</td>\n",
       "      <td>2.892889</td>\n",
       "      <td>8.136288e+07</td>\n",
       "      <td>28.322846</td>\n",
       "    </tr>\n",
       "    <tr>\n",
       "      <td>min</td>\n",
       "      <td>200801.000000</td>\n",
       "      <td>2.008022e+07</td>\n",
       "      <td>1.000000</td>\n",
       "      <td>8.000000</td>\n",
       "      <td>1.000000</td>\n",
       "      <td>0.010000</td>\n",
       "      <td>9.941099e+14</td>\n",
       "      <td>0.010000</td>\n",
       "    </tr>\n",
       "    <tr>\n",
       "      <td>25%</td>\n",
       "      <td>200801.000000</td>\n",
       "      <td>2.008030e+07</td>\n",
       "      <td>2.000000</td>\n",
       "      <td>12.000000</td>\n",
       "      <td>1.000000</td>\n",
       "      <td>0.780000</td>\n",
       "      <td>9.941099e+14</td>\n",
       "      <td>0.810000</td>\n",
       "    </tr>\n",
       "    <tr>\n",
       "      <td>50%</td>\n",
       "      <td>200802.000000</td>\n",
       "      <td>2.008031e+07</td>\n",
       "      <td>4.000000</td>\n",
       "      <td>15.000000</td>\n",
       "      <td>1.000000</td>\n",
       "      <td>1.250000</td>\n",
       "      <td>9.941100e+14</td>\n",
       "      <td>1.350000</td>\n",
       "    </tr>\n",
       "    <tr>\n",
       "      <td>75%</td>\n",
       "      <td>200803.000000</td>\n",
       "      <td>2.008031e+07</td>\n",
       "      <td>6.000000</td>\n",
       "      <td>18.000000</td>\n",
       "      <td>1.000000</td>\n",
       "      <td>2.120000</td>\n",
       "      <td>9.941101e+14</td>\n",
       "      <td>2.550000</td>\n",
       "    </tr>\n",
       "    <tr>\n",
       "      <td>max</td>\n",
       "      <td>200803.000000</td>\n",
       "      <td>2.008032e+07</td>\n",
       "      <td>7.000000</td>\n",
       "      <td>21.000000</td>\n",
       "      <td>107.000000</td>\n",
       "      <td>184.800000</td>\n",
       "      <td>9.941101e+14</td>\n",
       "      <td>3951.360000</td>\n",
       "    </tr>\n",
       "  </tbody>\n",
       "</table>\n",
       "</div>"
      ],
      "text/plain": [
       "           SHOP_WEEK     SHOP_DATE  SHOP_WEEKDAY     SHOP_HOUR      QUANTITY  \\\n",
       "count   80661.000000  8.066100e+04  80661.000000  80661.000000  80661.000000   \n",
       "mean   200802.004624  2.008029e+07      3.979073     14.858879      1.593620   \n",
       "std         0.813637  3.481709e+01      1.993215      3.670340      1.884405   \n",
       "min    200801.000000  2.008022e+07      1.000000      8.000000      1.000000   \n",
       "25%    200801.000000  2.008030e+07      2.000000     12.000000      1.000000   \n",
       "50%    200802.000000  2.008031e+07      4.000000     15.000000      1.000000   \n",
       "75%    200803.000000  2.008031e+07      6.000000     18.000000      1.000000   \n",
       "max    200803.000000  2.008032e+07      7.000000     21.000000    107.000000   \n",
       "\n",
       "              SPEND     BASKET_ID   TOTAL_PRICE  \n",
       "count  80661.000000  8.066100e+04  80661.000000  \n",
       "mean       1.960677  9.941100e+14      4.349692  \n",
       "std        2.892889  8.136288e+07     28.322846  \n",
       "min        0.010000  9.941099e+14      0.010000  \n",
       "25%        0.780000  9.941099e+14      0.810000  \n",
       "50%        1.250000  9.941100e+14      1.350000  \n",
       "75%        2.120000  9.941101e+14      2.550000  \n",
       "max      184.800000  9.941101e+14   3951.360000  "
      ]
     },
     "execution_count": 10,
     "metadata": {},
     "output_type": "execute_result"
    }
   ],
   "source": [
    "df.describe()"
   ]
  },
  {
   "cell_type": "markdown",
   "metadata": {},
   "source": [
    "**Total Revenue and it's 80%**\n",
    "\n",
    "*It is believed that 80% of revenue comes from 20% of customers. However, analysis of cummulative profits generated by customers proves it wrong for this specific case, probability due to limited data from a timeframe of only 3 weeks.*"
   ]
  },
  {
   "cell_type": "code",
   "execution_count": 5,
   "metadata": {},
   "outputs": [
    {
     "data": {
      "text/plain": [
       "350850.51"
      ]
     },
     "execution_count": 5,
     "metadata": {},
     "output_type": "execute_result"
    }
   ],
   "source": [
    "df['TOTAL_PRICE'].sum()"
   ]
  },
  {
   "cell_type": "code",
   "execution_count": 6,
   "metadata": {},
   "outputs": [],
   "source": [
    "df['SHOP_DATE']=df['SHOP_DATE'].apply(lambda x: dt.datetime.strptime(str(x), '%Y%m%d'))"
   ]
  },
  {
   "cell_type": "code",
   "execution_count": 7,
   "metadata": {},
   "outputs": [],
   "source": [
    "df['MONTH']=df['SHOP_DATE'].apply(lambda x: x.month)\n",
    "df['DAY']=df['SHOP_DATE'].apply(lambda x: x.day)"
   ]
  },
  {
   "cell_type": "code",
   "execution_count": 8,
   "metadata": {},
   "outputs": [
    {
     "data": {
      "text/plain": [
       "2626"
      ]
     },
     "execution_count": 8,
     "metadata": {},
     "output_type": "execute_result"
    }
   ],
   "source": [
    "df['CUST_CODE'].nunique()"
   ]
  },
  {
   "cell_type": "code",
   "execution_count": 16,
   "metadata": {},
   "outputs": [
    {
     "data": {
      "text/plain": [
       "<matplotlib.axes._subplots.AxesSubplot at 0x24e27a03e08>"
      ]
     },
     "execution_count": 16,
     "metadata": {},
     "output_type": "execute_result"
    },
    {
     "data": {
      "image/png": "[encoded data removed]",
      "text/plain": [
       "<Figure size 432x288 with 1 Axes>"
      ]
     },
     "metadata": {
      "needs_background": "light"
     },
     "output_type": "display_data"
    }
   ],
   "source": [
    "df.groupby('SHOP_WEEK').sum()['TOTAL_PRICE'].plot()"
   ]
  },
  {
   "cell_type": "code",
   "execution_count": 17,
   "metadata": {},
   "outputs": [
    {
     "data": {
      "text/plain": [
       "Text(0.5, 0, 'Purchase Week')"
      ]
     },
     "execution_count": 17,
     "metadata": {},
     "output_type": "execute_result"
    },
    {
     "data": {
      "image/png": "[encoded data removed]",
      "text/plain": [
       "<Figure size 432x288 with 1 Axes>"
      ]
     },
     "metadata": {
      "needs_background": "light"
     },
     "output_type": "display_data"
    }
   ],
   "source": [
    "sns.barplot(x=[1,2,3], y=df.groupby('SHOP_WEEK').sum()['TOTAL_PRICE'])\n",
    "plt.ylabel('Total_Price')\n",
    "plt.xlabel('Purchase Week')"
   ]
  },
  {
   "cell_type": "code",
   "execution_count": 9,
   "metadata": {},
   "outputs": [],
   "source": [
    "pivot_weekly=df.pivot_table(index='CUST_CODE', columns='SHOP_WEEK', values='TOTAL_PRICE', aggfunc='sum')"
   ]
  },
  {
   "cell_type": "markdown",
   "metadata": {},
   "source": [
    "**Those customer whose purchase has been increased every week**"
   ]
  },
  {
   "cell_type": "code",
   "execution_count": 10,
   "metadata": {},
   "outputs": [
    {
     "data": {
      "text/html": [
       "<div>\n",
       "<style scoped>\n",
       "    .dataframe tbody tr th:only-of-type {\n",
       "        vertical-align: middle;\n",
       "    }\n",
       "\n",
       "    .dataframe tbody tr th {\n",
       "        vertical-align: top;\n",
       "    }\n",
       "\n",
       "    .dataframe thead th {\n",
       "        text-align: right;\n",
       "    }\n",
       "</style>\n",
       "<table border=\"1\" class=\"dataframe\">\n",
       "  <thead>\n",
       "    <tr style=\"text-align: right;\">\n",
       "      <th>SHOP_WEEK</th>\n",
       "      <th>200801</th>\n",
       "      <th>200802</th>\n",
       "      <th>200803</th>\n",
       "    </tr>\n",
       "    <tr>\n",
       "      <th>CUST_CODE</th>\n",
       "      <th></th>\n",
       "      <th></th>\n",
       "      <th></th>\n",
       "    </tr>\n",
       "  </thead>\n",
       "  <tbody>\n",
       "    <tr>\n",
       "      <td>CUST0000001392</td>\n",
       "      <td>25.32</td>\n",
       "      <td>27.68</td>\n",
       "      <td>32.80</td>\n",
       "    </tr>\n",
       "    <tr>\n",
       "      <td>CUST0000001437</td>\n",
       "      <td>0.85</td>\n",
       "      <td>1.89</td>\n",
       "      <td>27.59</td>\n",
       "    </tr>\n",
       "    <tr>\n",
       "      <td>CUST0000003447</td>\n",
       "      <td>24.11</td>\n",
       "      <td>64.08</td>\n",
       "      <td>74.72</td>\n",
       "    </tr>\n",
       "    <tr>\n",
       "      <td>CUST0000007046</td>\n",
       "      <td>19.42</td>\n",
       "      <td>27.31</td>\n",
       "      <td>48.86</td>\n",
       "    </tr>\n",
       "    <tr>\n",
       "      <td>CUST0000007988</td>\n",
       "      <td>0.98</td>\n",
       "      <td>3.39</td>\n",
       "      <td>14.08</td>\n",
       "    </tr>\n",
       "    <tr>\n",
       "      <td>...</td>\n",
       "      <td>...</td>\n",
       "      <td>...</td>\n",
       "      <td>...</td>\n",
       "    </tr>\n",
       "    <tr>\n",
       "      <td>CUST0000969621</td>\n",
       "      <td>0.98</td>\n",
       "      <td>5.38</td>\n",
       "      <td>77.10</td>\n",
       "    </tr>\n",
       "    <tr>\n",
       "      <td>CUST0000971633</td>\n",
       "      <td>66.30</td>\n",
       "      <td>112.21</td>\n",
       "      <td>165.38</td>\n",
       "    </tr>\n",
       "    <tr>\n",
       "      <td>CUST0000974297</td>\n",
       "      <td>9.81</td>\n",
       "      <td>34.76</td>\n",
       "      <td>418.75</td>\n",
       "    </tr>\n",
       "    <tr>\n",
       "      <td>CUST0000987552</td>\n",
       "      <td>1.46</td>\n",
       "      <td>78.81</td>\n",
       "      <td>216.40</td>\n",
       "    </tr>\n",
       "    <tr>\n",
       "      <td>CUST0000990044</td>\n",
       "      <td>9.09</td>\n",
       "      <td>11.45</td>\n",
       "      <td>40.86</td>\n",
       "    </tr>\n",
       "  </tbody>\n",
       "</table>\n",
       "<p>177 rows × 3 columns</p>\n",
       "</div>"
      ],
      "text/plain": [
       "SHOP_WEEK       200801  200802  200803\n",
       "CUST_CODE                             \n",
       "CUST0000001392   25.32   27.68   32.80\n",
       "CUST0000001437    0.85    1.89   27.59\n",
       "CUST0000003447   24.11   64.08   74.72\n",
       "CUST0000007046   19.42   27.31   48.86\n",
       "CUST0000007988    0.98    3.39   14.08\n",
       "...                ...     ...     ...\n",
       "CUST0000969621    0.98    5.38   77.10\n",
       "CUST0000971633   66.30  112.21  165.38\n",
       "CUST0000974297    9.81   34.76  418.75\n",
       "CUST0000987552    1.46   78.81  216.40\n",
       "CUST0000990044    9.09   11.45   40.86\n",
       "\n",
       "[177 rows x 3 columns]"
      ]
     },
     "execution_count": 10,
     "metadata": {},
     "output_type": "execute_result"
    }
   ],
   "source": [
    "pivot_weekly[(pivot_weekly[200801]<pivot_weekly[200802]) & (pivot_weekly[200802]<pivot_weekly[200803])]"
   ]
  },
  {
   "cell_type": "markdown",
   "metadata": {},
   "source": [
    "**Recognize the most profitable customers**"
   ]
  },
  {
   "cell_type": "code",
   "execution_count": 11,
   "metadata": {},
   "outputs": [
    {
     "data": {
      "text/plain": [
       "(2626, 9)"
      ]
     },
     "execution_count": 11,
     "metadata": {},
     "output_type": "execute_result"
    }
   ],
   "source": [
    "df.groupby('CUST_CODE').sum().sort_values('TOTAL_PRICE',ascending=False).shape"
   ]
  },
  {
   "cell_type": "code",
   "execution_count": 12,
   "metadata": {},
   "outputs": [],
   "source": [
    "cumprof=[]\n",
    "for i in range(1,2627):\n",
    "    cumprof.append(df.groupby('CUST_CODE').sum().sort_values('TOTAL_PRICE',ascending=False).head(i).sum()['TOTAL_PRICE'])"
   ]
  },
  {
   "cell_type": "code",
   "execution_count": 14,
   "metadata": {},
   "outputs": [
    {
     "data": {
      "text/plain": [
       "276107.28999999905"
      ]
     },
     "execution_count": 14,
     "metadata": {},
     "output_type": "execute_result"
    }
   ],
   "source": [
    "cumprof[-1]"
   ]
  },
  {
   "cell_type": "code",
   "execution_count": 18,
   "metadata": {},
   "outputs": [],
   "source": [
    "cumprof=pd.DataFrame(data=cumprof, index=range(1,2627), columns=['CUMPROF'])\n",
    "cumprof.index=cumprof.index*100/2626\n",
    "cumprof['CUMPROF']=cumprof['CUMPROF']*(100/276107.28999999905)"
   ]
  },
  {
   "cell_type": "markdown",
   "metadata": {},
   "source": [
    "**Percentage of revenue per pecentage of profitable customers**"
   ]
  },
  {
   "cell_type": "code",
   "execution_count": 19,
   "metadata": {},
   "outputs": [
    {
     "data": {
      "text/plain": [
       "Text(0, 0.5, 'Revenue, %')"
      ]
     },
     "execution_count": 19,
     "metadata": {},
     "output_type": "execute_result"
    },
    {
     "data": {
      "image/png": "[encoded data removed]",
      "text/plain": [
       "<Figure size 864x360 with 1 Axes>"
      ]
     },
     "metadata": {
      "needs_background": "light"
     },
     "output_type": "display_data"
    }
   ],
   "source": [
    "cumprof.plot(figsize=(12,5))\n",
    "plt.xlabel('Top Customers Sorted Descendingly, %')\n",
    "plt.ylabel('Revenue, %')"
   ]
  },
  {
   "cell_type": "markdown",
   "metadata": {},
   "source": [
    "**Filter 1500 top customers**"
   ]
  },
  {
   "cell_type": "code",
   "execution_count": 20,
   "metadata": {},
   "outputs": [],
   "source": [
    "top1500index=df.groupby('CUST_CODE').sum().sort_values('TOTAL_PRICE',ascending=False).iloc[:1500,:].index"
   ]
  },
  {
   "cell_type": "markdown",
   "metadata": {},
   "source": [
    "**How much is the repeat rate, and churn rate?**"
   ]
  },
  {
   "cell_type": "code",
   "execution_count": 21,
   "metadata": {},
   "outputs": [],
   "source": [
    "##of customer who purchased atleast two different times\n",
    "repeat=sum(df.groupby(['CUST_CODE','SHOP_DATE']).count()['SHOP_WEEK'].unstack().apply(lambda x: x.count(), axis=1)>1) "
   ]
  },
  {
   "cell_type": "code",
   "execution_count": 22,
   "metadata": {},
   "outputs": [],
   "source": [
    "repeat_rate=repeat/df['CUST_CODE'].nunique()"
   ]
  },
  {
   "cell_type": "code",
   "execution_count": 23,
   "metadata": {},
   "outputs": [
    {
     "data": {
      "text/plain": [
       "76.00913937547601"
      ]
     },
     "execution_count": 23,
     "metadata": {},
     "output_type": "execute_result"
    }
   ],
   "source": [
    "#daily retention rate\n",
    "repeat_rate*100"
   ]
  },
  {
   "cell_type": "code",
   "execution_count": 24,
   "metadata": {},
   "outputs": [],
   "source": [
    "# daily churn rate\n",
    "churn=1-repeat_rate"
   ]
  },
  {
   "cell_type": "code",
   "execution_count": 25,
   "metadata": {},
   "outputs": [
    {
     "data": {
      "text/plain": [
       "23.99086062452399"
      ]
     },
     "execution_count": 25,
     "metadata": {},
     "output_type": "execute_result"
    }
   ],
   "source": [
    "churn*100"
   ]
  },
  {
   "cell_type": "code",
   "execution_count": 26,
   "metadata": {},
   "outputs": [
    {
     "data": {
      "text/plain": [
       "Text(0.5, 0, '# of purchase repetition')"
      ]
     },
     "execution_count": 26,
     "metadata": {},
     "output_type": "execute_result"
    },
    {
     "data": {
      "image/png": "[encoded data removed]",
      "text/plain": [
       "<Figure size 432x288 with 1 Axes>"
      ]
     },
     "metadata": {
      "needs_background": "light"
     },
     "output_type": "display_data"
    }
   ],
   "source": [
    "df.groupby(['CUST_CODE','SHOP_DATE']).count()['SHOP_WEEK'].unstack().apply(lambda x: x.count(), \n",
    "                    axis=1).value_counts().plot(marker='o', linestyle='--', linewidth=2, \n",
    "                    markersize=7, mfc='red')\n",
    "plt.ylabel('# of customers')\n",
    "plt.xlabel('# of purchase repetition')"
   ]
  },
  {
   "cell_type": "code",
   "execution_count": 27,
   "metadata": {},
   "outputs": [],
   "source": [
    "REPEAT=pd.DataFrame(df.groupby(['CUST_CODE','SHOP_DATE']).count()['SHOP_WEEK'].unstack().apply(lambda x: x.count(),axis=1), columns=['REPEAT'])"
   ]
  },
  {
   "cell_type": "markdown",
   "metadata": {},
   "source": [
    "**We filter the customers with more than 1 purchases**"
   ]
  },
  {
   "cell_type": "code",
   "execution_count": 28,
   "metadata": {},
   "outputs": [],
   "source": [
    "repindex=REPEAT[REPEAT['REPEAT']>1].index"
   ]
  },
  {
   "cell_type": "markdown",
   "metadata": {},
   "source": [
    "**We create a dataframe including only those customers with more than 1 purchase and in the list of top 1500 members. This is to capture both frequency and monetary. Three elements of CLTV are: Frequency, monetary, and recency, however, the total period within which data is available is limitted to 3 consecutive weeks only and we can not take recency into account.** "
   ]
  },
  {
   "cell_type": "code",
   "execution_count": 29,
   "metadata": {},
   "outputs": [],
   "source": [
    "filtered_indeces=np.intersect1d(np.array(repindex), np.array(top1500index))"
   ]
  },
  {
   "cell_type": "code",
   "execution_count": 30,
   "metadata": {},
   "outputs": [
    {
     "data": {
      "text/plain": [
       "(1355,)"
      ]
     },
     "execution_count": 30,
     "metadata": {},
     "output_type": "execute_result"
    }
   ],
   "source": [
    "filtered_indeces.shape # we have 1355 customers with more than one purchase who are also in the 1500-top-customers list."
   ]
  },
  {
   "cell_type": "code",
   "execution_count": 31,
   "metadata": {},
   "outputs": [],
   "source": [
    "top_customers=df[df['CUST_CODE'].apply(lambda x: x in list(filtered_indeces))]"
   ]
  },
  {
   "cell_type": "code",
   "execution_count": 32,
   "metadata": {},
   "outputs": [
    {
     "data": {
      "text/html": [
       "<div>\n",
       "<style scoped>\n",
       "    .dataframe tbody tr th:only-of-type {\n",
       "        vertical-align: middle;\n",
       "    }\n",
       "\n",
       "    .dataframe tbody tr th {\n",
       "        vertical-align: top;\n",
       "    }\n",
       "\n",
       "    .dataframe thead th {\n",
       "        text-align: right;\n",
       "    }\n",
       "</style>\n",
       "<table border=\"1\" class=\"dataframe\">\n",
       "  <thead>\n",
       "    <tr style=\"text-align: right;\">\n",
       "      <th></th>\n",
       "      <th>SHOP_WEEK</th>\n",
       "      <th>SHOP_DATE</th>\n",
       "      <th>SHOP_WEEKDAY</th>\n",
       "      <th>SHOP_HOUR</th>\n",
       "      <th>QUANTITY</th>\n",
       "      <th>SPEND</th>\n",
       "      <th>PROD_CODE</th>\n",
       "      <th>PROD_CODE_10</th>\n",
       "      <th>PROD_CODE_20</th>\n",
       "      <th>PROD_CODE_30</th>\n",
       "      <th>...</th>\n",
       "      <th>BASKET_SIZE</th>\n",
       "      <th>BASKET_PRICE_SENSITIVITY</th>\n",
       "      <th>BASKET_TYPE</th>\n",
       "      <th>BASKET_DOMINANT_MISSION</th>\n",
       "      <th>STORE_CODE</th>\n",
       "      <th>STORE_FORMAT</th>\n",
       "      <th>STORE_REGION</th>\n",
       "      <th>TOTAL_PRICE</th>\n",
       "      <th>MONTH</th>\n",
       "      <th>DAY</th>\n",
       "    </tr>\n",
       "  </thead>\n",
       "  <tbody>\n",
       "    <tr>\n",
       "      <td>3</td>\n",
       "      <td>200801</td>\n",
       "      <td>2008-02-28</td>\n",
       "      <td>5</td>\n",
       "      <td>19</td>\n",
       "      <td>3</td>\n",
       "      <td>3.42</td>\n",
       "      <td>PRD0901465</td>\n",
       "      <td>CL00005</td>\n",
       "      <td>DEP00002</td>\n",
       "      <td>G00001</td>\n",
       "      <td>...</td>\n",
       "      <td>M</td>\n",
       "      <td>UM</td>\n",
       "      <td>Small Shop</td>\n",
       "      <td>Fresh</td>\n",
       "      <td>STORE00001</td>\n",
       "      <td>LS</td>\n",
       "      <td>E02</td>\n",
       "      <td>10.26</td>\n",
       "      <td>2</td>\n",
       "      <td>28</td>\n",
       "    </tr>\n",
       "    <tr>\n",
       "      <td>5</td>\n",
       "      <td>200801</td>\n",
       "      <td>2008-02-25</td>\n",
       "      <td>2</td>\n",
       "      <td>17</td>\n",
       "      <td>1</td>\n",
       "      <td>0.19</td>\n",
       "      <td>PRD0903052</td>\n",
       "      <td>CL00031</td>\n",
       "      <td>DEP00008</td>\n",
       "      <td>G00004</td>\n",
       "      <td>...</td>\n",
       "      <td>S</td>\n",
       "      <td>UM</td>\n",
       "      <td>Small Shop</td>\n",
       "      <td>Fresh</td>\n",
       "      <td>STORE00001</td>\n",
       "      <td>LS</td>\n",
       "      <td>E02</td>\n",
       "      <td>0.19</td>\n",
       "      <td>2</td>\n",
       "      <td>25</td>\n",
       "    </tr>\n",
       "    <tr>\n",
       "      <td>12</td>\n",
       "      <td>200801</td>\n",
       "      <td>2008-02-28</td>\n",
       "      <td>5</td>\n",
       "      <td>19</td>\n",
       "      <td>1</td>\n",
       "      <td>2.65</td>\n",
       "      <td>PRD0904036</td>\n",
       "      <td>CL00198</td>\n",
       "      <td>DEP00067</td>\n",
       "      <td>G00021</td>\n",
       "      <td>...</td>\n",
       "      <td>M</td>\n",
       "      <td>UM</td>\n",
       "      <td>Small Shop</td>\n",
       "      <td>Fresh</td>\n",
       "      <td>STORE00001</td>\n",
       "      <td>LS</td>\n",
       "      <td>E02</td>\n",
       "      <td>2.65</td>\n",
       "      <td>2</td>\n",
       "      <td>28</td>\n",
       "    </tr>\n",
       "  </tbody>\n",
       "</table>\n",
       "<p>3 rows × 25 columns</p>\n",
       "</div>"
      ],
      "text/plain": [
       "    SHOP_WEEK  SHOP_DATE  SHOP_WEEKDAY  SHOP_HOUR  QUANTITY  SPEND  \\\n",
       "3      200801 2008-02-28             5         19         3   3.42   \n",
       "5      200801 2008-02-25             2         17         1   0.19   \n",
       "12     200801 2008-02-28             5         19         1   2.65   \n",
       "\n",
       "     PROD_CODE PROD_CODE_10 PROD_CODE_20 PROD_CODE_30  ... BASKET_SIZE  \\\n",
       "3   PRD0901465      CL00005     DEP00002       G00001  ...           M   \n",
       "5   PRD0903052      CL00031     DEP00008       G00004  ...           S   \n",
       "12  PRD0904036      CL00198     DEP00067       G00021  ...           M   \n",
       "\n",
       "   BASKET_PRICE_SENSITIVITY BASKET_TYPE BASKET_DOMINANT_MISSION  STORE_CODE  \\\n",
       "3                        UM  Small Shop                   Fresh  STORE00001   \n",
       "5                        UM  Small Shop                   Fresh  STORE00001   \n",
       "12                       UM  Small Shop                   Fresh  STORE00001   \n",
       "\n",
       "   STORE_FORMAT STORE_REGION TOTAL_PRICE MONTH DAY  \n",
       "3            LS          E02       10.26     2  28  \n",
       "5            LS          E02        0.19     2  25  \n",
       "12           LS          E02        2.65     2  28  \n",
       "\n",
       "[3 rows x 25 columns]"
      ]
     },
     "execution_count": 32,
     "metadata": {},
     "output_type": "execute_result"
    }
   ],
   "source": [
    "top_customers.head(3)"
   ]
  },
  {
   "cell_type": "markdown",
   "metadata": {},
   "source": [
    "### What is the contribution of different parameters (below) in total_price earned from top customers purchases\n",
    "* BASKET_PRICE_SENSITIVITY\n",
    "* PROD_CODE\n",
    "* BASKET_SIZE\n",
    "* BASKET_TYPE\n",
    "* BASKET_DOMINANT_MISSION\n",
    "* STORE_FORMAT\n",
    "* STORE_REGION"
   ]
  },
  {
   "cell_type": "code",
   "execution_count": 70,
   "metadata": {},
   "outputs": [
    {
     "data": {
      "text/html": [
       "<div>\n",
       "<style scoped>\n",
       "    .dataframe tbody tr th:only-of-type {\n",
       "        vertical-align: middle;\n",
       "    }\n",
       "\n",
       "    .dataframe tbody tr th {\n",
       "        vertical-align: top;\n",
       "    }\n",
       "\n",
       "    .dataframe thead th {\n",
       "        text-align: right;\n",
       "    }\n",
       "</style>\n",
       "<table border=\"1\" class=\"dataframe\">\n",
       "  <thead>\n",
       "    <tr style=\"text-align: right;\">\n",
       "      <th></th>\n",
       "      <th>SHOP_WEEK</th>\n",
       "      <th>SHOP_WEEKDAY</th>\n",
       "      <th>SHOP_HOUR</th>\n",
       "      <th>QUANTITY</th>\n",
       "      <th>SPEND</th>\n",
       "      <th>BASKET_ID</th>\n",
       "      <th>TOTAL_PRICE</th>\n",
       "      <th>MONTH</th>\n",
       "      <th>DAY</th>\n",
       "    </tr>\n",
       "    <tr>\n",
       "      <th>BASKET_PRICE_SENSITIVITY</th>\n",
       "      <th></th>\n",
       "      <th></th>\n",
       "      <th></th>\n",
       "      <th></th>\n",
       "      <th></th>\n",
       "      <th></th>\n",
       "      <th></th>\n",
       "      <th></th>\n",
       "      <th></th>\n",
       "    </tr>\n",
       "  </thead>\n",
       "  <tbody>\n",
       "    <tr>\n",
       "      <td>LA</td>\n",
       "      <td>2.066052e+09</td>\n",
       "      <td>40706.0</td>\n",
       "      <td>151261.0</td>\n",
       "      <td>17163.0</td>\n",
       "      <td>18836.31</td>\n",
       "      <td>1.022840e+19</td>\n",
       "      <td>44971.59</td>\n",
       "      <td>28506.0</td>\n",
       "      <td>131504.0</td>\n",
       "    </tr>\n",
       "    <tr>\n",
       "      <td>MM</td>\n",
       "      <td>5.898559e+09</td>\n",
       "      <td>117367.0</td>\n",
       "      <td>430475.0</td>\n",
       "      <td>47867.0</td>\n",
       "      <td>59586.18</td>\n",
       "      <td>2.920198e+19</td>\n",
       "      <td>130970.78</td>\n",
       "      <td>80992.0</td>\n",
       "      <td>383510.0</td>\n",
       "    </tr>\n",
       "    <tr>\n",
       "      <td>UM</td>\n",
       "      <td>2.708819e+09</td>\n",
       "      <td>54451.0</td>\n",
       "      <td>196693.0</td>\n",
       "      <td>21513.0</td>\n",
       "      <td>29058.14</td>\n",
       "      <td>1.341054e+19</td>\n",
       "      <td>61616.08</td>\n",
       "      <td>37340.0</td>\n",
       "      <td>172746.0</td>\n",
       "    </tr>\n",
       "    <tr>\n",
       "      <td>XX</td>\n",
       "      <td>3.032111e+07</td>\n",
       "      <td>610.0</td>\n",
       "      <td>1989.0</td>\n",
       "      <td>333.0</td>\n",
       "      <td>364.29</td>\n",
       "      <td>1.501106e+17</td>\n",
       "      <td>590.05</td>\n",
       "      <td>426.0</td>\n",
       "      <td>1803.0</td>\n",
       "    </tr>\n",
       "  </tbody>\n",
       "</table>\n",
       "</div>"
      ],
      "text/plain": [
       "                             SHOP_WEEK  SHOP_WEEKDAY  SHOP_HOUR  QUANTITY  \\\n",
       "BASKET_PRICE_SENSITIVITY                                                    \n",
       "LA                        2.066052e+09       40706.0   151261.0   17163.0   \n",
       "MM                        5.898559e+09      117367.0   430475.0   47867.0   \n",
       "UM                        2.708819e+09       54451.0   196693.0   21513.0   \n",
       "XX                        3.032111e+07         610.0     1989.0     333.0   \n",
       "\n",
       "                             SPEND     BASKET_ID  TOTAL_PRICE    MONTH  \\\n",
       "BASKET_PRICE_SENSITIVITY                                                 \n",
       "LA                        18836.31  1.022840e+19     44971.59  28506.0   \n",
       "MM                        59586.18  2.920198e+19    130970.78  80992.0   \n",
       "UM                        29058.14  1.341054e+19     61616.08  37340.0   \n",
       "XX                          364.29  1.501106e+17       590.05    426.0   \n",
       "\n",
       "                               DAY  \n",
       "BASKET_PRICE_SENSITIVITY            \n",
       "LA                        131504.0  \n",
       "MM                        383510.0  \n",
       "UM                        172746.0  \n",
       "XX                          1803.0  "
      ]
     },
     "execution_count": 70,
     "metadata": {},
     "output_type": "execute_result"
    }
   ],
   "source": [
    "top_customers.groupby('BASKET_PRICE_SENSITIVITY').sum()"
   ]
  },
  {
   "cell_type": "code",
   "execution_count": 71,
   "metadata": {},
   "outputs": [
    {
     "data": {
      "image/png": "[encoded data removed]",
      "text/plain": [
       "<Figure size 432x288 with 1 Axes>"
      ]
     },
     "metadata": {},
     "output_type": "display_data"
    }
   ],
   "source": [
    "plt.pie(x=top_customers.groupby('BASKET_PRICE_SENSITIVITY').sum()['TOTAL_PRICE'], labels=['LA','MM','UM','XX'],colors=['red','lightblue', 'green','yellow'] )\n",
    "plt.show()"
   ]
  },
  {
   "cell_type": "markdown",
   "metadata": {},
   "source": [
    "**What are the top 30 most frequently purchased items?**"
   ]
  },
  {
   "cell_type": "code",
   "execution_count": 72,
   "metadata": {},
   "outputs": [
    {
     "data": {
      "text/plain": [
       "Text(0.5, 0, 'Product Code')"
      ]
     },
     "execution_count": 72,
     "metadata": {},
     "output_type": "execute_result"
    },
    {
     "data": {
      "image/png": "[encoded data removed]",
      "text/plain": [
       "<Figure size 864x360 with 1 Axes>"
      ]
     },
     "metadata": {
      "needs_background": "light"
     },
     "output_type": "display_data"
    }
   ],
   "source": [
    "top_customers['PROD_CODE'].value_counts().head(30).plot.bar(figsize=(12,5))\n",
    "plt.ylabel('frequency')\n",
    "plt.xlabel('Product Code')"
   ]
  },
  {
   "cell_type": "markdown",
   "metadata": {},
   "source": [
    "**What are those stores with most purchase**"
   ]
  },
  {
   "cell_type": "code",
   "execution_count": 73,
   "metadata": {},
   "outputs": [
    {
     "data": {
      "text/plain": [
       "Text(0.5, 0, 'Store Region')"
      ]
     },
     "execution_count": 73,
     "metadata": {},
     "output_type": "execute_result"
    },
    {
     "data": {
      "image/png": "[encoded data removed]",
      "text/plain": [
       "<Figure size 864x360 with 1 Axes>"
      ]
     },
     "metadata": {
      "needs_background": "light"
     },
     "output_type": "display_data"
    }
   ],
   "source": [
    "top_customers['STORE_REGION'].value_counts().head(30).plot.bar(figsize=(12,5))\n",
    "plt.ylabel('frequency')\n",
    "plt.xlabel('Store Region')"
   ]
  },
  {
   "cell_type": "markdown",
   "metadata": {},
   "source": [
    "**What are stores with most purchase value**"
   ]
  },
  {
   "cell_type": "code",
   "execution_count": 74,
   "metadata": {},
   "outputs": [
    {
     "data": {
      "text/plain": [
       "Text(0.5, 0, 'Store Region')"
      ]
     },
     "execution_count": 74,
     "metadata": {},
     "output_type": "execute_result"
    },
    {
     "data": {
      "image/png": "[encoded data removed]",
      "text/plain": [
       "<Figure size 432x288 with 1 Axes>"
      ]
     },
     "metadata": {
      "needs_background": "light"
     },
     "output_type": "display_data"
    }
   ],
   "source": [
    "top_customers.groupby('STORE_REGION').sum()['TOTAL_PRICE'].sort_values(ascending=False).plot.bar()\n",
    "plt.ylabel('Total Revenue')\n",
    "plt.xlabel('Store Region')"
   ]
  },
  {
   "cell_type": "markdown",
   "metadata": {},
   "source": [
    "**Are those stores with most purchases, also the ones produced higher revenue?**\n",
    "\n",
    "*Answer: Yes for the first top four stores*"
   ]
  },
  {
   "cell_type": "markdown",
   "metadata": {},
   "source": [
    "**Which store formats produced more revenue?**"
   ]
  },
  {
   "cell_type": "code",
   "execution_count": 75,
   "metadata": {},
   "outputs": [
    {
     "data": {
      "text/plain": [
       "Text(0.5, 0, 'Store Format')"
      ]
     },
     "execution_count": 75,
     "metadata": {},
     "output_type": "execute_result"
    },
    {
     "data": {
      "image/png": "[encoded data removed]",
      "text/plain": [
       "<Figure size 432x288 with 1 Axes>"
      ]
     },
     "metadata": {
      "needs_background": "light"
     },
     "output_type": "display_data"
    }
   ],
   "source": [
    "top_customers.groupby('STORE_FORMAT').sum()['TOTAL_PRICE'].sort_values(ascending=False).plot.bar()\n",
    "plt.ylabel('Total Revenue')\n",
    "plt.xlabel('Store Format')"
   ]
  },
  {
   "cell_type": "markdown",
   "metadata": {},
   "source": [
    "**What are BASKET_DOMINANT_MISSIONs from which most revenue is generated?**"
   ]
  },
  {
   "cell_type": "code",
   "execution_count": 76,
   "metadata": {},
   "outputs": [
    {
     "data": {
      "text/plain": [
       "Text(0.5, 0, 'BASKET_DOMINANT_MISSION')"
      ]
     },
     "execution_count": 76,
     "metadata": {},
     "output_type": "execute_result"
    },
    {
     "data": {
      "image/png": "[encoded data removed]",
      "text/plain": [
       "<Figure size 432x288 with 1 Axes>"
      ]
     },
     "metadata": {
      "needs_background": "light"
     },
     "output_type": "display_data"
    }
   ],
   "source": [
    "top_customers.groupby('BASKET_DOMINANT_MISSION').sum()['TOTAL_PRICE'].sort_values(ascending=False).plot.bar()\n",
    "plt.ylabel('Total Revenue')\n",
    "plt.xlabel('BASKET_DOMINANT_MISSION')"
   ]
  },
  {
   "cell_type": "markdown",
   "metadata": {},
   "source": [
    "**What is the purchase distribution of different BASKET_DOMINANT_MISSIONs in stores with different formats?**"
   ]
  },
  {
   "cell_type": "code",
   "execution_count": 77,
   "metadata": {},
   "outputs": [
    {
     "name": "stderr",
     "output_type": "stream",
     "text": [
      "C:\\Users\\Mehdi\\Anaconda3\\lib\\site-packages\\seaborn\\axisgrid.py:715: UserWarning: Using the barplot function without specifying `order` is likely to produce an incorrect plot.\n",
      "  warnings.warn(warning)\n"
     ]
    },
    {
     "data": {
      "image/png": "[encoded data removed]",
      "text/plain": [
       "<Figure size 432x864 with 4 Axes>"
      ]
     },
     "metadata": {
      "needs_background": "light"
     },
     "output_type": "display_data"
    }
   ],
   "source": [
    "g=sns.FacetGrid(row='STORE_FORMAT', data=top_customers, aspect=2, height=3)\n",
    "g.map(sns.barplot, 'BASKET_DOMINANT_MISSION', 'TOTAL_PRICE')\n",
    "plt.tight_layout()"
   ]
  },
  {
   "cell_type": "markdown",
   "metadata": {},
   "source": [
    "**What is the relationship between customer lifestage and total revenue produced from customer?** "
   ]
  },
  {
   "cell_type": "code",
   "execution_count": 78,
   "metadata": {},
   "outputs": [
    {
     "data": {
      "text/plain": [
       "<matplotlib.axes._subplots.AxesSubplot at 0x24e2a3df1c8>"
      ]
     },
     "execution_count": 78,
     "metadata": {},
     "output_type": "execute_result"
    },
    {
     "data": {
      "image/png": "[encoded data removed]",
      "text/plain": [
       "<Figure size 432x288 with 1 Axes>"
      ]
     },
     "metadata": {
      "needs_background": "light"
     },
     "output_type": "display_data"
    }
   ],
   "source": [
    "top_customers.groupby('CUST_LIFESTAGE').sum()['TOTAL_PRICE'].sort_values(ascending=False).plot.bar()"
   ]
  },
  {
   "cell_type": "code",
   "execution_count": 86,
   "metadata": {},
   "outputs": [
    {
     "data": {
      "text/plain": [
       "<matplotlib.axes._subplots.AxesSubplot at 0x24e2a6df6c8>"
      ]
     },
     "execution_count": 86,
     "metadata": {},
     "output_type": "execute_result"
    },
    {
     "data": {
      "image/png": "[encoded data removed]",
      "text/plain": [
       "<Figure size 432x288 with 1 Axes>"
      ]
     },
     "metadata": {
      "needs_background": "light"
     },
     "output_type": "display_data"
    }
   ],
   "source": [
    "top_customers.groupby('PROD_CODE').sum()['TOTAL_PRICE'].sort_values(ascending=False).head(3).plot.bar()"
   ]
  },
  {
   "cell_type": "markdown",
   "metadata": {},
   "source": [
    "**Creating Cohort Table**"
   ]
  },
  {
   "cell_type": "code",
   "execution_count": 35,
   "metadata": {},
   "outputs": [],
   "source": [
    "def InvoiceMonth(x): return dt.datetime(x.year, x.month, 1)"
   ]
  },
  {
   "cell_type": "code",
   "execution_count": 224,
   "metadata": {},
   "outputs": [],
   "source": [
    "df['InvoiceDate']=df['SHOP_DATE'].apply(InvoiceMonth)"
   ]
  },
  {
   "cell_type": "code",
   "execution_count": 225,
   "metadata": {},
   "outputs": [],
   "source": [
    "df['CohortDate'] = df.groupby('CUST_CODE')['InvoiceDate'].transform('min')"
   ]
  },
  {
   "cell_type": "markdown",
   "metadata": {},
   "source": [
    "**Define a function to extract year, month, and day**"
   ]
  },
  {
   "cell_type": "code",
   "execution_count": 67,
   "metadata": {},
   "outputs": [],
   "source": [
    "def get_ymd (df, column):\n",
    "    day=df[column].dt.day\n",
    "    month=df[column].dt.month\n",
    "    year=df[column].dt.year\n",
    "    week=df[column].dt.week\n",
    "    return year, month, week, day"
   ]
  },
  {
   "cell_type": "code",
   "execution_count": 226,
   "metadata": {},
   "outputs": [],
   "source": [
    "invoice_year,invoice_month,invoice_week, _ = get_ymd(df,'InvoiceDate')"
   ]
  },
  {
   "cell_type": "code",
   "execution_count": 227,
   "metadata": {},
   "outputs": [],
   "source": [
    "cohort_year,cohort_month,cohort_week, _ = get_ymd(df,'CohortDate')"
   ]
  },
  {
   "cell_type": "markdown",
   "metadata": {},
   "source": [
    "**Build an offset value**"
   ]
  },
  {
   "cell_type": "code",
   "execution_count": 228,
   "metadata": {},
   "outputs": [],
   "source": [
    "years_diff = invoice_year - cohort_year \n",
    "months_diff = invoice_month - cohort_month \n",
    "day_diff = invoice_day -cohort_day\n",
    "week_diff=invoice_week - cohort_week"
   ]
  },
  {
   "cell_type": "code",
   "execution_count": 229,
   "metadata": {},
   "outputs": [],
   "source": [
    "df['Cohort_Index']= week_diff+1"
   ]
  },
  {
   "cell_type": "code",
   "execution_count": 230,
   "metadata": {},
   "outputs": [
    {
     "data": {
      "text/plain": [
       "2"
      ]
     },
     "execution_count": 230,
     "metadata": {},
     "output_type": "execute_result"
    }
   ],
   "source": [
    "df['Cohort_Index'].nunique()"
   ]
  },
  {
   "cell_type": "code",
   "execution_count": 231,
   "metadata": {},
   "outputs": [
    {
     "data": {
      "text/html": [
       "<div>\n",
       "<style scoped>\n",
       "    .dataframe tbody tr th:only-of-type {\n",
       "        vertical-align: middle;\n",
       "    }\n",
       "\n",
       "    .dataframe tbody tr th {\n",
       "        vertical-align: top;\n",
       "    }\n",
       "\n",
       "    .dataframe thead th {\n",
       "        text-align: right;\n",
       "    }\n",
       "</style>\n",
       "<table border=\"1\" class=\"dataframe\">\n",
       "  <thead>\n",
       "    <tr style=\"text-align: right;\">\n",
       "      <th></th>\n",
       "      <th>SHOP_WEEK</th>\n",
       "      <th>SHOP_DATE</th>\n",
       "      <th>SHOP_WEEKDAY</th>\n",
       "      <th>SHOP_HOUR</th>\n",
       "      <th>QUANTITY</th>\n",
       "      <th>SPEND</th>\n",
       "      <th>PROD_CODE</th>\n",
       "      <th>PROD_CODE_10</th>\n",
       "      <th>PROD_CODE_20</th>\n",
       "      <th>PROD_CODE_30</th>\n",
       "      <th>...</th>\n",
       "      <th>BASKET_DOMINANT_MISSION</th>\n",
       "      <th>STORE_CODE</th>\n",
       "      <th>STORE_FORMAT</th>\n",
       "      <th>STORE_REGION</th>\n",
       "      <th>TOTAL_PRICE</th>\n",
       "      <th>MONTH</th>\n",
       "      <th>DAY</th>\n",
       "      <th>InvoiceDate</th>\n",
       "      <th>CohortDate</th>\n",
       "      <th>Cohort_Index</th>\n",
       "    </tr>\n",
       "  </thead>\n",
       "  <tbody>\n",
       "    <tr>\n",
       "      <td>0</td>\n",
       "      <td>200801</td>\n",
       "      <td>2008-02-27</td>\n",
       "      <td>4</td>\n",
       "      <td>21</td>\n",
       "      <td>1</td>\n",
       "      <td>1.83</td>\n",
       "      <td>PRD0900159</td>\n",
       "      <td>CL00029</td>\n",
       "      <td>DEP00008</td>\n",
       "      <td>G00004</td>\n",
       "      <td>...</td>\n",
       "      <td>Fresh</td>\n",
       "      <td>STORE00001</td>\n",
       "      <td>LS</td>\n",
       "      <td>E02</td>\n",
       "      <td>1.83</td>\n",
       "      <td>2</td>\n",
       "      <td>27</td>\n",
       "      <td>2008-02-01</td>\n",
       "      <td>2008-02-01</td>\n",
       "      <td>1.0</td>\n",
       "    </tr>\n",
       "    <tr>\n",
       "      <td>1</td>\n",
       "      <td>200801</td>\n",
       "      <td>2008-02-27</td>\n",
       "      <td>4</td>\n",
       "      <td>21</td>\n",
       "      <td>1</td>\n",
       "      <td>0.86</td>\n",
       "      <td>PRD0900531</td>\n",
       "      <td>CL00026</td>\n",
       "      <td>DEP00008</td>\n",
       "      <td>G00004</td>\n",
       "      <td>...</td>\n",
       "      <td>Fresh</td>\n",
       "      <td>STORE00001</td>\n",
       "      <td>LS</td>\n",
       "      <td>E02</td>\n",
       "      <td>0.86</td>\n",
       "      <td>2</td>\n",
       "      <td>27</td>\n",
       "      <td>2008-02-01</td>\n",
       "      <td>2008-02-01</td>\n",
       "      <td>1.0</td>\n",
       "    </tr>\n",
       "    <tr>\n",
       "      <td>2</td>\n",
       "      <td>200801</td>\n",
       "      <td>2008-02-26</td>\n",
       "      <td>3</td>\n",
       "      <td>16</td>\n",
       "      <td>1</td>\n",
       "      <td>1.12</td>\n",
       "      <td>PRD0900925</td>\n",
       "      <td>CL00035</td>\n",
       "      <td>DEP00009</td>\n",
       "      <td>G00004</td>\n",
       "      <td>...</td>\n",
       "      <td>Fresh</td>\n",
       "      <td>STORE00001</td>\n",
       "      <td>LS</td>\n",
       "      <td>E02</td>\n",
       "      <td>1.12</td>\n",
       "      <td>2</td>\n",
       "      <td>26</td>\n",
       "      <td>2008-02-01</td>\n",
       "      <td>NaT</td>\n",
       "      <td>NaN</td>\n",
       "    </tr>\n",
       "  </tbody>\n",
       "</table>\n",
       "<p>3 rows × 28 columns</p>\n",
       "</div>"
      ],
      "text/plain": [
       "   SHOP_WEEK  SHOP_DATE  SHOP_WEEKDAY  SHOP_HOUR  QUANTITY  SPEND   PROD_CODE  \\\n",
       "0     200801 2008-02-27             4         21         1   1.83  PRD0900159   \n",
       "1     200801 2008-02-27             4         21         1   0.86  PRD0900531   \n",
       "2     200801 2008-02-26             3         16         1   1.12  PRD0900925   \n",
       "\n",
       "  PROD_CODE_10 PROD_CODE_20 PROD_CODE_30  ... BASKET_DOMINANT_MISSION  \\\n",
       "0      CL00029     DEP00008       G00004  ...                   Fresh   \n",
       "1      CL00026     DEP00008       G00004  ...                   Fresh   \n",
       "2      CL00035     DEP00009       G00004  ...                   Fresh   \n",
       "\n",
       "   STORE_CODE STORE_FORMAT STORE_REGION  TOTAL_PRICE MONTH DAY InvoiceDate  \\\n",
       "0  STORE00001           LS          E02         1.83     2  27  2008-02-01   \n",
       "1  STORE00001           LS          E02         0.86     2  27  2008-02-01   \n",
       "2  STORE00001           LS          E02         1.12     2  26  2008-02-01   \n",
       "\n",
       "  CohortDate Cohort_Index  \n",
       "0 2008-02-01          1.0  \n",
       "1 2008-02-01          1.0  \n",
       "2        NaT          NaN  \n",
       "\n",
       "[3 rows x 28 columns]"
      ]
     },
     "execution_count": 231,
     "metadata": {},
     "output_type": "execute_result"
    }
   ],
   "source": [
    "df.head(3)"
   ]
  },
  {
   "cell_type": "code",
   "execution_count": 232,
   "metadata": {},
   "outputs": [
    {
     "data": {
      "text/html": [
       "<div>\n",
       "<style scoped>\n",
       "    .dataframe tbody tr th:only-of-type {\n",
       "        vertical-align: middle;\n",
       "    }\n",
       "\n",
       "    .dataframe tbody tr th {\n",
       "        vertical-align: top;\n",
       "    }\n",
       "\n",
       "    .dataframe thead th {\n",
       "        text-align: right;\n",
       "    }\n",
       "</style>\n",
       "<table border=\"1\" class=\"dataframe\">\n",
       "  <thead>\n",
       "    <tr style=\"text-align: right;\">\n",
       "      <th></th>\n",
       "      <th></th>\n",
       "      <th>SHOP_WEEK</th>\n",
       "      <th>SHOP_DATE</th>\n",
       "      <th>SHOP_WEEKDAY</th>\n",
       "      <th>SHOP_HOUR</th>\n",
       "      <th>QUANTITY</th>\n",
       "      <th>SPEND</th>\n",
       "      <th>PROD_CODE</th>\n",
       "      <th>PROD_CODE_10</th>\n",
       "      <th>PROD_CODE_20</th>\n",
       "      <th>PROD_CODE_30</th>\n",
       "      <th>...</th>\n",
       "      <th>BASKET_PRICE_SENSITIVITY</th>\n",
       "      <th>BASKET_TYPE</th>\n",
       "      <th>BASKET_DOMINANT_MISSION</th>\n",
       "      <th>STORE_CODE</th>\n",
       "      <th>STORE_FORMAT</th>\n",
       "      <th>STORE_REGION</th>\n",
       "      <th>TOTAL_PRICE</th>\n",
       "      <th>MONTH</th>\n",
       "      <th>DAY</th>\n",
       "      <th>Cohort_Index</th>\n",
       "    </tr>\n",
       "    <tr>\n",
       "      <th>InvoiceDate</th>\n",
       "      <th>CohortDate</th>\n",
       "      <th></th>\n",
       "      <th></th>\n",
       "      <th></th>\n",
       "      <th></th>\n",
       "      <th></th>\n",
       "      <th></th>\n",
       "      <th></th>\n",
       "      <th></th>\n",
       "      <th></th>\n",
       "      <th></th>\n",
       "      <th></th>\n",
       "      <th></th>\n",
       "      <th></th>\n",
       "      <th></th>\n",
       "      <th></th>\n",
       "      <th></th>\n",
       "      <th></th>\n",
       "      <th></th>\n",
       "      <th></th>\n",
       "      <th></th>\n",
       "      <th></th>\n",
       "    </tr>\n",
       "  </thead>\n",
       "  <tbody>\n",
       "    <tr>\n",
       "      <td>2008-02-01</td>\n",
       "      <td>2008-02-01</td>\n",
       "      <td>15520</td>\n",
       "      <td>15520</td>\n",
       "      <td>15520</td>\n",
       "      <td>15520</td>\n",
       "      <td>15520</td>\n",
       "      <td>15520</td>\n",
       "      <td>15520</td>\n",
       "      <td>15520</td>\n",
       "      <td>15520</td>\n",
       "      <td>15520</td>\n",
       "      <td>...</td>\n",
       "      <td>15520</td>\n",
       "      <td>15520</td>\n",
       "      <td>15520</td>\n",
       "      <td>15520</td>\n",
       "      <td>15520</td>\n",
       "      <td>15520</td>\n",
       "      <td>15520</td>\n",
       "      <td>15520</td>\n",
       "      <td>15520</td>\n",
       "      <td>15520</td>\n",
       "    </tr>\n",
       "    <tr>\n",
       "      <td rowspan=\"2\" valign=\"top\">2008-03-01</td>\n",
       "      <td>2008-02-01</td>\n",
       "      <td>32143</td>\n",
       "      <td>32143</td>\n",
       "      <td>32143</td>\n",
       "      <td>32143</td>\n",
       "      <td>32143</td>\n",
       "      <td>32143</td>\n",
       "      <td>32143</td>\n",
       "      <td>32143</td>\n",
       "      <td>32143</td>\n",
       "      <td>32143</td>\n",
       "      <td>...</td>\n",
       "      <td>32143</td>\n",
       "      <td>32143</td>\n",
       "      <td>32143</td>\n",
       "      <td>32143</td>\n",
       "      <td>32143</td>\n",
       "      <td>32143</td>\n",
       "      <td>32143</td>\n",
       "      <td>32143</td>\n",
       "      <td>32143</td>\n",
       "      <td>32143</td>\n",
       "    </tr>\n",
       "    <tr>\n",
       "      <td>2008-03-01</td>\n",
       "      <td>17321</td>\n",
       "      <td>17321</td>\n",
       "      <td>17321</td>\n",
       "      <td>17321</td>\n",
       "      <td>17321</td>\n",
       "      <td>17321</td>\n",
       "      <td>17321</td>\n",
       "      <td>17321</td>\n",
       "      <td>17321</td>\n",
       "      <td>17321</td>\n",
       "      <td>...</td>\n",
       "      <td>17321</td>\n",
       "      <td>17321</td>\n",
       "      <td>17321</td>\n",
       "      <td>17321</td>\n",
       "      <td>17321</td>\n",
       "      <td>17321</td>\n",
       "      <td>17321</td>\n",
       "      <td>17321</td>\n",
       "      <td>17321</td>\n",
       "      <td>17321</td>\n",
       "    </tr>\n",
       "  </tbody>\n",
       "</table>\n",
       "<p>3 rows × 26 columns</p>\n",
       "</div>"
      ],
      "text/plain": [
       "                        SHOP_WEEK  SHOP_DATE  SHOP_WEEKDAY  SHOP_HOUR  \\\n",
       "InvoiceDate CohortDate                                                  \n",
       "2008-02-01  2008-02-01      15520      15520         15520      15520   \n",
       "2008-03-01  2008-02-01      32143      32143         32143      32143   \n",
       "            2008-03-01      17321      17321         17321      17321   \n",
       "\n",
       "                        QUANTITY  SPEND  PROD_CODE  PROD_CODE_10  \\\n",
       "InvoiceDate CohortDate                                             \n",
       "2008-02-01  2008-02-01     15520  15520      15520         15520   \n",
       "2008-03-01  2008-02-01     32143  32143      32143         32143   \n",
       "            2008-03-01     17321  17321      17321         17321   \n",
       "\n",
       "                        PROD_CODE_20  PROD_CODE_30  ...  \\\n",
       "InvoiceDate CohortDate                              ...   \n",
       "2008-02-01  2008-02-01         15520         15520  ...   \n",
       "2008-03-01  2008-02-01         32143         32143  ...   \n",
       "            2008-03-01         17321         17321  ...   \n",
       "\n",
       "                        BASKET_PRICE_SENSITIVITY  BASKET_TYPE  \\\n",
       "InvoiceDate CohortDate                                          \n",
       "2008-02-01  2008-02-01                     15520        15520   \n",
       "2008-03-01  2008-02-01                     32143        32143   \n",
       "            2008-03-01                     17321        17321   \n",
       "\n",
       "                        BASKET_DOMINANT_MISSION  STORE_CODE  STORE_FORMAT  \\\n",
       "InvoiceDate CohortDate                                                      \n",
       "2008-02-01  2008-02-01                    15520       15520         15520   \n",
       "2008-03-01  2008-02-01                    32143       32143         32143   \n",
       "            2008-03-01                    17321       17321         17321   \n",
       "\n",
       "                        STORE_REGION  TOTAL_PRICE  MONTH    DAY  Cohort_Index  \n",
       "InvoiceDate CohortDate                                                         \n",
       "2008-02-01  2008-02-01         15520        15520  15520  15520         15520  \n",
       "2008-03-01  2008-02-01         32143        32143  32143  32143         32143  \n",
       "            2008-03-01         17321        17321  17321  17321         17321  \n",
       "\n",
       "[3 rows x 26 columns]"
      ]
     },
     "execution_count": 232,
     "metadata": {},
     "output_type": "execute_result"
    }
   ],
   "source": [
    "df.groupby(['InvoiceDate', 'CohortDate']).count()"
   ]
  },
  {
   "cell_type": "markdown",
   "metadata": {},
   "source": [
    "**From above analysis we have only two unique outcomes for cohort_index due to data limited to three weeks only, therefore, it looks better to define cohort on a weekly basis rather than monthly**"
   ]
  },
  {
   "cell_type": "code",
   "execution_count": 233,
   "metadata": {},
   "outputs": [],
   "source": [
    "df['invoice_week']= df['SHOP_DATE'].dt.week"
   ]
  },
  {
   "cell_type": "code",
   "execution_count": 234,
   "metadata": {},
   "outputs": [],
   "source": [
    "df['cohort_week']= df.groupby('CUST_CODE')['invoice_week'].transform(min)"
   ]
  },
  {
   "cell_type": "code",
   "execution_count": 235,
   "metadata": {},
   "outputs": [],
   "source": [
    "df['Cohort_Index'] = df['invoice_week']-df['cohort_week']+1"
   ]
  },
  {
   "cell_type": "code",
   "execution_count": 149,
   "metadata": {},
   "outputs": [
    {
     "data": {
      "text/html": [
       "<div>\n",
       "<style scoped>\n",
       "    .dataframe tbody tr th:only-of-type {\n",
       "        vertical-align: middle;\n",
       "    }\n",
       "\n",
       "    .dataframe tbody tr th {\n",
       "        vertical-align: top;\n",
       "    }\n",
       "\n",
       "    .dataframe thead th {\n",
       "        text-align: right;\n",
       "    }\n",
       "</style>\n",
       "<table border=\"1\" class=\"dataframe\">\n",
       "  <thead>\n",
       "    <tr style=\"text-align: right;\">\n",
       "      <th></th>\n",
       "      <th></th>\n",
       "      <th>SHOP_WEEK</th>\n",
       "      <th>SHOP_DATE</th>\n",
       "      <th>SHOP_WEEKDAY</th>\n",
       "      <th>SHOP_HOUR</th>\n",
       "      <th>QUANTITY</th>\n",
       "      <th>SPEND</th>\n",
       "      <th>PROD_CODE</th>\n",
       "      <th>PROD_CODE_10</th>\n",
       "      <th>PROD_CODE_20</th>\n",
       "      <th>PROD_CODE_30</th>\n",
       "      <th>...</th>\n",
       "      <th>BASKET_DOMINANT_MISSION</th>\n",
       "      <th>STORE_CODE</th>\n",
       "      <th>STORE_FORMAT</th>\n",
       "      <th>STORE_REGION</th>\n",
       "      <th>TOTAL_PRICE</th>\n",
       "      <th>MONTH</th>\n",
       "      <th>DAY</th>\n",
       "      <th>InvoiceDate</th>\n",
       "      <th>CohortDate</th>\n",
       "      <th>Cohort_Index</th>\n",
       "    </tr>\n",
       "    <tr>\n",
       "      <th>invoice_week</th>\n",
       "      <th>cohort_week</th>\n",
       "      <th></th>\n",
       "      <th></th>\n",
       "      <th></th>\n",
       "      <th></th>\n",
       "      <th></th>\n",
       "      <th></th>\n",
       "      <th></th>\n",
       "      <th></th>\n",
       "      <th></th>\n",
       "      <th></th>\n",
       "      <th></th>\n",
       "      <th></th>\n",
       "      <th></th>\n",
       "      <th></th>\n",
       "      <th></th>\n",
       "      <th></th>\n",
       "      <th></th>\n",
       "      <th></th>\n",
       "      <th></th>\n",
       "      <th></th>\n",
       "      <th></th>\n",
       "    </tr>\n",
       "  </thead>\n",
       "  <tbody>\n",
       "    <tr>\n",
       "      <td>9</td>\n",
       "      <td>9</td>\n",
       "      <td>17721</td>\n",
       "      <td>17721</td>\n",
       "      <td>17721</td>\n",
       "      <td>17721</td>\n",
       "      <td>17721</td>\n",
       "      <td>17721</td>\n",
       "      <td>17721</td>\n",
       "      <td>17721</td>\n",
       "      <td>17721</td>\n",
       "      <td>17721</td>\n",
       "      <td>...</td>\n",
       "      <td>17721</td>\n",
       "      <td>17721</td>\n",
       "      <td>17721</td>\n",
       "      <td>17721</td>\n",
       "      <td>17721</td>\n",
       "      <td>17721</td>\n",
       "      <td>17721</td>\n",
       "      <td>17721</td>\n",
       "      <td>17721</td>\n",
       "      <td>17721</td>\n",
       "    </tr>\n",
       "    <tr>\n",
       "      <td rowspan=\"2\" valign=\"top\">10</td>\n",
       "      <td>9</td>\n",
       "      <td>15183</td>\n",
       "      <td>15183</td>\n",
       "      <td>15183</td>\n",
       "      <td>15183</td>\n",
       "      <td>15183</td>\n",
       "      <td>15183</td>\n",
       "      <td>15183</td>\n",
       "      <td>15183</td>\n",
       "      <td>15183</td>\n",
       "      <td>15183</td>\n",
       "      <td>...</td>\n",
       "      <td>15183</td>\n",
       "      <td>15183</td>\n",
       "      <td>15183</td>\n",
       "      <td>15183</td>\n",
       "      <td>15183</td>\n",
       "      <td>15183</td>\n",
       "      <td>15183</td>\n",
       "      <td>15183</td>\n",
       "      <td>15183</td>\n",
       "      <td>15183</td>\n",
       "    </tr>\n",
       "    <tr>\n",
       "      <td>10</td>\n",
       "      <td>2436</td>\n",
       "      <td>2436</td>\n",
       "      <td>2436</td>\n",
       "      <td>2436</td>\n",
       "      <td>2436</td>\n",
       "      <td>2436</td>\n",
       "      <td>2436</td>\n",
       "      <td>2436</td>\n",
       "      <td>2436</td>\n",
       "      <td>2436</td>\n",
       "      <td>...</td>\n",
       "      <td>2436</td>\n",
       "      <td>2436</td>\n",
       "      <td>2436</td>\n",
       "      <td>2436</td>\n",
       "      <td>2436</td>\n",
       "      <td>2436</td>\n",
       "      <td>2436</td>\n",
       "      <td>2436</td>\n",
       "      <td>2436</td>\n",
       "      <td>2436</td>\n",
       "    </tr>\n",
       "    <tr>\n",
       "      <td rowspan=\"3\" valign=\"top\">11</td>\n",
       "      <td>9</td>\n",
       "      <td>15686</td>\n",
       "      <td>15686</td>\n",
       "      <td>15686</td>\n",
       "      <td>15686</td>\n",
       "      <td>15686</td>\n",
       "      <td>15686</td>\n",
       "      <td>15686</td>\n",
       "      <td>15686</td>\n",
       "      <td>15686</td>\n",
       "      <td>15686</td>\n",
       "      <td>...</td>\n",
       "      <td>15686</td>\n",
       "      <td>15686</td>\n",
       "      <td>15686</td>\n",
       "      <td>15686</td>\n",
       "      <td>15686</td>\n",
       "      <td>15686</td>\n",
       "      <td>15686</td>\n",
       "      <td>15686</td>\n",
       "      <td>15686</td>\n",
       "      <td>15686</td>\n",
       "    </tr>\n",
       "    <tr>\n",
       "      <td>10</td>\n",
       "      <td>1974</td>\n",
       "      <td>1974</td>\n",
       "      <td>1974</td>\n",
       "      <td>1974</td>\n",
       "      <td>1974</td>\n",
       "      <td>1974</td>\n",
       "      <td>1974</td>\n",
       "      <td>1974</td>\n",
       "      <td>1974</td>\n",
       "      <td>1974</td>\n",
       "      <td>...</td>\n",
       "      <td>1974</td>\n",
       "      <td>1974</td>\n",
       "      <td>1974</td>\n",
       "      <td>1974</td>\n",
       "      <td>1974</td>\n",
       "      <td>1974</td>\n",
       "      <td>1974</td>\n",
       "      <td>1974</td>\n",
       "      <td>1974</td>\n",
       "      <td>1974</td>\n",
       "    </tr>\n",
       "    <tr>\n",
       "      <td>11</td>\n",
       "      <td>305</td>\n",
       "      <td>305</td>\n",
       "      <td>305</td>\n",
       "      <td>305</td>\n",
       "      <td>305</td>\n",
       "      <td>305</td>\n",
       "      <td>305</td>\n",
       "      <td>305</td>\n",
       "      <td>305</td>\n",
       "      <td>305</td>\n",
       "      <td>...</td>\n",
       "      <td>305</td>\n",
       "      <td>305</td>\n",
       "      <td>305</td>\n",
       "      <td>305</td>\n",
       "      <td>305</td>\n",
       "      <td>305</td>\n",
       "      <td>305</td>\n",
       "      <td>305</td>\n",
       "      <td>305</td>\n",
       "      <td>305</td>\n",
       "    </tr>\n",
       "  </tbody>\n",
       "</table>\n",
       "<p>6 rows × 28 columns</p>\n",
       "</div>"
      ],
      "text/plain": [
       "                          SHOP_WEEK  SHOP_DATE  SHOP_WEEKDAY  SHOP_HOUR  \\\n",
       "invoice_week cohort_week                                                  \n",
       "9            9                17721      17721         17721      17721   \n",
       "10           9                15183      15183         15183      15183   \n",
       "             10                2436       2436          2436       2436   \n",
       "11           9                15686      15686         15686      15686   \n",
       "             10                1974       1974          1974       1974   \n",
       "             11                 305        305           305        305   \n",
       "\n",
       "                          QUANTITY  SPEND  PROD_CODE  PROD_CODE_10  \\\n",
       "invoice_week cohort_week                                             \n",
       "9            9               17721  17721      17721         17721   \n",
       "10           9               15183  15183      15183         15183   \n",
       "             10               2436   2436       2436          2436   \n",
       "11           9               15686  15686      15686         15686   \n",
       "             10               1974   1974       1974          1974   \n",
       "             11                305    305        305           305   \n",
       "\n",
       "                          PROD_CODE_20  PROD_CODE_30  ...  \\\n",
       "invoice_week cohort_week                              ...   \n",
       "9            9                   17721         17721  ...   \n",
       "10           9                   15183         15183  ...   \n",
       "             10                   2436          2436  ...   \n",
       "11           9                   15686         15686  ...   \n",
       "             10                   1974          1974  ...   \n",
       "             11                    305           305  ...   \n",
       "\n",
       "                          BASKET_DOMINANT_MISSION  STORE_CODE  STORE_FORMAT  \\\n",
       "invoice_week cohort_week                                                      \n",
       "9            9                              17721       17721         17721   \n",
       "10           9                              15183       15183         15183   \n",
       "             10                              2436        2436          2436   \n",
       "11           9                              15686       15686         15686   \n",
       "             10                              1974        1974          1974   \n",
       "             11                               305         305           305   \n",
       "\n",
       "                          STORE_REGION  TOTAL_PRICE  MONTH    DAY  \\\n",
       "invoice_week cohort_week                                            \n",
       "9            9                   17721        17721  17721  17721   \n",
       "10           9                   15183        15183  15183  15183   \n",
       "             10                   2436         2436   2436   2436   \n",
       "11           9                   15686        15686  15686  15686   \n",
       "             10                   1974         1974   1974   1974   \n",
       "             11                    305          305    305    305   \n",
       "\n",
       "                          InvoiceDate  CohortDate  Cohort_Index  \n",
       "invoice_week cohort_week                                         \n",
       "9            9                  17721       17721         17721  \n",
       "10           9                  15183       15183         15183  \n",
       "             10                  2436        2436          2436  \n",
       "11           9                  15686       15686         15686  \n",
       "             10                  1974        1974          1974  \n",
       "             11                   305         305           305  \n",
       "\n",
       "[6 rows x 28 columns]"
      ]
     },
     "execution_count": 149,
     "metadata": {},
     "output_type": "execute_result"
    }
   ],
   "source": [
    "top_customers.groupby(['invoice_week', 'cohort_week']).count()"
   ]
  },
  {
   "cell_type": "code",
   "execution_count": 236,
   "metadata": {},
   "outputs": [],
   "source": [
    "cohort_data=df.groupby(['CohortDate', 'Cohort_Index'])['CUST_CODE'].nunique()"
   ]
  },
  {
   "cell_type": "code",
   "execution_count": 237,
   "metadata": {},
   "outputs": [],
   "source": [
    "cohort_data = cohort_data.reset_index()"
   ]
  },
  {
   "cell_type": "markdown",
   "metadata": {},
   "source": [
    "**And, finally this would the company retention: Cohort Table**"
   ]
  },
  {
   "cell_type": "code",
   "execution_count": 238,
   "metadata": {},
   "outputs": [],
   "source": [
    "cohort_table=cohort_data.pivot_table(index='CohortDate', columns='Cohort_Index', values='CUST_CODE', margins=True, aggfunc='sum')"
   ]
  },
  {
   "cell_type": "code",
   "execution_count": 240,
   "metadata": {},
   "outputs": [
    {
     "data": {
      "text/html": [
       "<div>\n",
       "<style scoped>\n",
       "    .dataframe tbody tr th:only-of-type {\n",
       "        vertical-align: middle;\n",
       "    }\n",
       "\n",
       "    .dataframe tbody tr th {\n",
       "        vertical-align: top;\n",
       "    }\n",
       "\n",
       "    .dataframe thead th {\n",
       "        text-align: right;\n",
       "    }\n",
       "</style>\n",
       "<table border=\"1\" class=\"dataframe\">\n",
       "  <thead>\n",
       "    <tr style=\"text-align: right;\">\n",
       "      <th>Cohort_Index</th>\n",
       "      <th>1.0</th>\n",
       "      <th>2.0</th>\n",
       "      <th>3.0</th>\n",
       "      <th>All</th>\n",
       "    </tr>\n",
       "    <tr>\n",
       "      <th>CohortDate</th>\n",
       "      <th></th>\n",
       "      <th></th>\n",
       "      <th></th>\n",
       "      <th></th>\n",
       "    </tr>\n",
       "  </thead>\n",
       "  <tbody>\n",
       "    <tr>\n",
       "      <td>2008-02-01 00:00:00</td>\n",
       "      <td>1535</td>\n",
       "      <td>1144</td>\n",
       "      <td>1147</td>\n",
       "      <td>3826</td>\n",
       "    </tr>\n",
       "    <tr>\n",
       "      <td>2008-03-01 00:00:00</td>\n",
       "      <td>1091</td>\n",
       "      <td>466</td>\n",
       "      <td>220</td>\n",
       "      <td>1777</td>\n",
       "    </tr>\n",
       "    <tr>\n",
       "      <td>All</td>\n",
       "      <td>2626</td>\n",
       "      <td>1610</td>\n",
       "      <td>1367</td>\n",
       "      <td>5603</td>\n",
       "    </tr>\n",
       "  </tbody>\n",
       "</table>\n",
       "</div>"
      ],
      "text/plain": [
       "Cohort_Index          1.0   2.0   3.0   All\n",
       "CohortDate                                 \n",
       "2008-02-01 00:00:00  1535  1144  1147  3826\n",
       "2008-03-01 00:00:00  1091   466   220  1777\n",
       "All                  2626  1610  1367  5603"
      ]
     },
     "execution_count": 240,
     "metadata": {},
     "output_type": "execute_result"
    }
   ],
   "source": [
    "cohort_table"
   ]
  },
  {
   "cell_type": "code",
   "execution_count": 241,
   "metadata": {},
   "outputs": [
    {
     "data": {
      "text/plain": [
       "<matplotlib.axes._subplots.AxesSubplot at 0x222fa6f4888>"
      ]
     },
     "execution_count": 241,
     "metadata": {},
     "output_type": "execute_result"
    },
    {
     "data": {
      "image/png": "[encoded data removed]",
      "text/plain": [
       "<Figure size 432x288 with 1 Axes>"
      ]
     },
     "metadata": {
      "needs_background": "light"
     },
     "output_type": "display_data"
    }
   ],
   "source": [
    "##Customer return plot\n",
    "cohort_table.iloc[:2,:3].plot.bar()"
   ]
  },
  {
   "cell_type": "code",
   "execution_count": 242,
   "metadata": {},
   "outputs": [
    {
     "data": {
      "image/png": "[encoded data removed]",
      "text/plain": [
       "<Figure size 1080x1080 with 3 Axes>"
      ]
     },
     "metadata": {},
     "output_type": "display_data"
    }
   ],
   "source": [
    "cohort_table.iloc[:2,:3].plot(kind='pie', subplots=True, autopct='%.1f', figsize=(15,15))\n",
    "plt.show()"
   ]
  },
  {
   "cell_type": "markdown",
   "metadata": {},
   "source": [
    "**Calculate the weekly retention table**\n",
    "\n",
    "*Hint: If data is plenty, this table will be created for the monthly basis*\n",
    "\n",
    "*1. Find the cohort size*"
   ]
  },
  {
   "cell_type": "code",
   "execution_count": 250,
   "metadata": {},
   "outputs": [],
   "source": [
    "size = cohort_table.iloc[:2,0]"
   ]
  },
  {
   "cell_type": "markdown",
   "metadata": {},
   "source": [
    "*2. Calculate Retention Rate*"
   ]
  },
  {
   "cell_type": "code",
   "execution_count": 360,
   "metadata": {},
   "outputs": [],
   "source": [
    "retention_table = cohort_table.iloc[:2,:3].divide(size, axis=0).round(3)"
   ]
  },
  {
   "cell_type": "code",
   "execution_count": 361,
   "metadata": {},
   "outputs": [
    {
     "data": {
      "text/html": [
       "<div>\n",
       "<style scoped>\n",
       "    .dataframe tbody tr th:only-of-type {\n",
       "        vertical-align: middle;\n",
       "    }\n",
       "\n",
       "    .dataframe tbody tr th {\n",
       "        vertical-align: top;\n",
       "    }\n",
       "\n",
       "    .dataframe thead th {\n",
       "        text-align: right;\n",
       "    }\n",
       "</style>\n",
       "<table border=\"1\" class=\"dataframe\">\n",
       "  <thead>\n",
       "    <tr style=\"text-align: right;\">\n",
       "      <th>Cohort_Index</th>\n",
       "      <th>1.0</th>\n",
       "      <th>2.0</th>\n",
       "      <th>3.0</th>\n",
       "    </tr>\n",
       "    <tr>\n",
       "      <th>CohortDate</th>\n",
       "      <th></th>\n",
       "      <th></th>\n",
       "      <th></th>\n",
       "    </tr>\n",
       "  </thead>\n",
       "  <tbody>\n",
       "    <tr>\n",
       "      <td>2008-02-01 00:00:00</td>\n",
       "      <td>1.0</td>\n",
       "      <td>0.745</td>\n",
       "      <td>0.747</td>\n",
       "    </tr>\n",
       "    <tr>\n",
       "      <td>2008-03-01 00:00:00</td>\n",
       "      <td>1.0</td>\n",
       "      <td>0.427</td>\n",
       "      <td>0.202</td>\n",
       "    </tr>\n",
       "  </tbody>\n",
       "</table>\n",
       "</div>"
      ],
      "text/plain": [
       "Cohort_Index         1.0    2.0    3.0\n",
       "CohortDate                            \n",
       "2008-02-01 00:00:00  1.0  0.745  0.747\n",
       "2008-03-01 00:00:00  1.0  0.427  0.202"
      ]
     },
     "execution_count": 361,
     "metadata": {},
     "output_type": "execute_result"
    }
   ],
   "source": [
    "retention_table"
   ]
  },
  {
   "cell_type": "code",
   "execution_count": 364,
   "metadata": {},
   "outputs": [
    {
     "data": {
      "text/plain": [
       "<matplotlib.axes._subplots.AxesSubplot at 0x22283a19948>"
      ]
     },
     "execution_count": 364,
     "metadata": {},
     "output_type": "execute_result"
    },
    {
     "data": {
      "image/png": "[encoded data removed]",
      "text/plain": [
       "<Figure size 432x288 with 2 Axes>"
      ]
     },
     "metadata": {
      "needs_background": "light"
     },
     "output_type": "display_data"
    }
   ],
   "source": [
    "sns.heatmap(retention_table, cmap='coolwarm',annot=True,linewidths=2,fmt='.2%')"
   ]
  },
  {
   "cell_type": "markdown",
   "metadata": {},
   "source": [
    "**Revenue Metrics**"
   ]
  },
  {
   "cell_type": "code",
   "execution_count": 319,
   "metadata": {},
   "outputs": [],
   "source": [
    "rev_shop_date = df.groupby(['SHOP_DATE', 'Cohort_Index'])['TOTAL_PRICE'].sum().unstack()"
   ]
  },
  {
   "cell_type": "code",
   "execution_count": 320,
   "metadata": {},
   "outputs": [
    {
     "data": {
      "text/html": [
       "<div>\n",
       "<style scoped>\n",
       "    .dataframe tbody tr th:only-of-type {\n",
       "        vertical-align: middle;\n",
       "    }\n",
       "\n",
       "    .dataframe tbody tr th {\n",
       "        vertical-align: top;\n",
       "    }\n",
       "\n",
       "    .dataframe thead th {\n",
       "        text-align: right;\n",
       "    }\n",
       "</style>\n",
       "<table border=\"1\" class=\"dataframe\">\n",
       "  <thead>\n",
       "    <tr style=\"text-align: right;\">\n",
       "      <th>Cohort_Index</th>\n",
       "      <th>1.0</th>\n",
       "      <th>2.0</th>\n",
       "      <th>3.0</th>\n",
       "    </tr>\n",
       "    <tr>\n",
       "      <th>SHOP_DATE</th>\n",
       "      <th></th>\n",
       "      <th></th>\n",
       "      <th></th>\n",
       "    </tr>\n",
       "  </thead>\n",
       "  <tbody>\n",
       "    <tr>\n",
       "      <td>2008-02-25</td>\n",
       "      <td>10469.33</td>\n",
       "      <td>NaN</td>\n",
       "      <td>NaN</td>\n",
       "    </tr>\n",
       "    <tr>\n",
       "      <td>2008-02-26</td>\n",
       "      <td>13287.48</td>\n",
       "      <td>NaN</td>\n",
       "      <td>NaN</td>\n",
       "    </tr>\n",
       "    <tr>\n",
       "      <td>2008-02-27</td>\n",
       "      <td>10913.07</td>\n",
       "      <td>NaN</td>\n",
       "      <td>NaN</td>\n",
       "    </tr>\n",
       "    <tr>\n",
       "      <td>2008-02-28</td>\n",
       "      <td>12969.91</td>\n",
       "      <td>NaN</td>\n",
       "      <td>NaN</td>\n",
       "    </tr>\n",
       "    <tr>\n",
       "      <td>2008-02-29</td>\n",
       "      <td>11675.11</td>\n",
       "      <td>NaN</td>\n",
       "      <td>NaN</td>\n",
       "    </tr>\n",
       "    <tr>\n",
       "      <td>2008-03-01</td>\n",
       "      <td>12202.25</td>\n",
       "      <td>NaN</td>\n",
       "      <td>NaN</td>\n",
       "    </tr>\n",
       "    <tr>\n",
       "      <td>2008-03-02</td>\n",
       "      <td>14116.43</td>\n",
       "      <td>NaN</td>\n",
       "      <td>NaN</td>\n",
       "    </tr>\n",
       "    <tr>\n",
       "      <td>2008-03-03</td>\n",
       "      <td>1697.66</td>\n",
       "      <td>9084.08</td>\n",
       "      <td>NaN</td>\n",
       "    </tr>\n",
       "    <tr>\n",
       "      <td>2008-03-04</td>\n",
       "      <td>2933.83</td>\n",
       "      <td>8881.44</td>\n",
       "      <td>NaN</td>\n",
       "    </tr>\n",
       "    <tr>\n",
       "      <td>2008-03-05</td>\n",
       "      <td>2710.31</td>\n",
       "      <td>9467.86</td>\n",
       "      <td>NaN</td>\n",
       "    </tr>\n",
       "  </tbody>\n",
       "</table>\n",
       "</div>"
      ],
      "text/plain": [
       "Cohort_Index       1.0      2.0  3.0\n",
       "SHOP_DATE                           \n",
       "2008-02-25    10469.33      NaN  NaN\n",
       "2008-02-26    13287.48      NaN  NaN\n",
       "2008-02-27    10913.07      NaN  NaN\n",
       "2008-02-28    12969.91      NaN  NaN\n",
       "2008-02-29    11675.11      NaN  NaN\n",
       "2008-03-01    12202.25      NaN  NaN\n",
       "2008-03-02    14116.43      NaN  NaN\n",
       "2008-03-03     1697.66  9084.08  NaN\n",
       "2008-03-04     2933.83  8881.44  NaN\n",
       "2008-03-05     2710.31  9467.86  NaN"
      ]
     },
     "execution_count": 320,
     "metadata": {},
     "output_type": "execute_result"
    }
   ],
   "source": [
    "rev_shop_date.head(10)"
   ]
  },
  {
   "cell_type": "code",
   "execution_count": 359,
   "metadata": {},
   "outputs": [
    {
     "data": {
      "text/plain": [
       "Text(0, 0.5, 'Revenue, $')"
      ]
     },
     "execution_count": 359,
     "metadata": {},
     "output_type": "execute_result"
    },
    {
     "data": {
      "image/png": "[encoded data removed]",
      "text/plain": [
       "<Figure size 720x360 with 1 Axes>"
      ]
     },
     "metadata": {
      "needs_background": "light"
     },
     "output_type": "display_data"
    }
   ],
   "source": [
    "plt.figure(figsize=(10,5))\n",
    "plt.stackplot(rev_shop_date.index, rev_shop_date[1], rev_shop_date[2], rev_shop_date[3], \n",
    "              labels=('Cohort 1', 'Cohort 2', 'Cohort 3'))\n",
    "plt.legend(loc='upper left', bbox_to_anchor=(0, 1), shadow=True)\n",
    "plt.title('Revenue versus time for different cohort groups')\n",
    "plt.xlabel('Date of shopping')\n",
    "plt.ylabel('Revenue, $')"
   ]
  },
  {
   "cell_type": "code",
   "execution_count": 370,
   "metadata": {},
   "outputs": [
    {
     "data": {
      "text/plain": [
       "<matplotlib.axes._subplots.AxesSubplot at 0x222850a6208>"
      ]
     },
     "execution_count": 370,
     "metadata": {},
     "output_type": "execute_result"
    },
    {
     "data": {
      "image/png": "[encoded data removed]",
      "text/plain": [
       "<Figure size 720x720 with 2 Axes>"
      ]
     },
     "metadata": {
      "needs_background": "light"
     },
     "output_type": "display_data"
    }
   ],
   "source": [
    "plt.figure(figsize=(10,10))\n",
    "sns.heatmap(rev_shop_date, cmap='BuGn', fmt='2g', annot=True)"
   ]
  },
  {
   "cell_type": "markdown",
   "metadata": {},
   "source": [
    "## Summary"
   ]
  },
  {
   "cell_type": "markdown",
   "metadata": {},
   "source": [
    "A small sample data for a grocery retailer is provided to run explanatory analysis and get insights for the second phase of project which aims to ultimately improve CLTV and increase Shared Wallet. Data is limited to three weeks with almost 81000 row and 26 columns. The objective of this phase of study was to run Explanatory Data Analysis and realize the potential fields for company to make more revenue, to recognize the most profitable customers for company to provide incentives and improve membership packages, and to monitor the company’s overall performance whether they are capable to stablishing more branches national wide or not? Feature selection and feature engineering, build the predictive models, and product/customer segmentation are the main target of next phases of the projects (phase II and phase III). \n",
    "Following insights and understanding of data is listed below:\n",
    "1.\tTotal revenue shows an increasing trend within the given three weeks with the total amount of  $ 350,850 which shows there might be a good potential to grow.\n",
    "2.\t80% of revenue is made from almost 36% of customers.\n",
    "3.\tCLTV is estimated as a function of total revenue and frequency of purchase. Recency as another influential parameter in this calculation is ignored because the data timeframe is not big enough to capture this feature. \n",
    "4.\tCustomer Retention and churn rate has been calculated on the daily basis to be 76% and 24% respectively. This means more than 600 customers out of 2626 registered customers have purchased only once. \n",
    "5.\tTop-1500 customers from whom approximately 92% of company revenue is created, are filtered for more exploration.\n",
    "6.\tCompany revenue relationship with features such as different basket prices, product categories, basket types, store formats and store regions has been determined.\n",
    "7.\tCompany is more successful in selling fresh foods as almost 45% of total revenue made from it. Only a small portion of revenue made through selling nonfood items. \n",
    "8.\tCohort table has been created to show the retention rate for each invoice period. In general, retention rate looks satisfactory although three weeks of data cannot be a firm representative to make such conclusion. \n",
    "9.\tThis study is deemed successful in terms of getting an overall insight about company’s revenue, it’s potential to grow and to recognize the main key drives of CLTV to be used for next phase of the study and for company to focus on appropriate tactics to increase sale.\n",
    "10.\tIt is part of the plan to run the same analysis on full set of data prior to move toward prediction phase. \n",
    "\n"
   ]
  },
  {
   "cell_type": "markdown",
   "metadata": {},
   "source": [
    "## End of Document"
   ]
  }
 ],
 "metadata": {
  "kernelspec": {
   "display_name": "Python 3",
   "language": "python",
   "name": "python3"
  },
  "language_info": {
   "codemirror_mode": {
    "name": "ipython",
    "version": 3
   },
   "file_extension": ".py",
   "mimetype": "text/x-python",
   "name": "python",
   "nbconvert_exporter": "python",
   "pygments_lexer": "ipython3",
   "version": "3.7.4"
  }
 },
 "nbformat": 4,
 "nbformat_minor": 2
}
