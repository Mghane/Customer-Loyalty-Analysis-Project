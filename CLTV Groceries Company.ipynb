{
 "cells": [
  {
   "cell_type": "code",
   "execution_count": 1,
   "metadata": {},
   "outputs": [],
   "source": [
    "import numpy as np\n",
    "import pandas as pd\n",
    "import matplotlib.pyplot as plt\n",
    "import seaborn as sns\n",
    "import os\n",
    "import datetime as dt\n",
    "%matplotlib inline\n",
    "plt.style.use('fivethirtyeight')"
   ]
  },
  {
   "cell_type": "code",
   "execution_count": 2,
   "metadata": {},
   "outputs": [],
   "source": [
    "df=pd.read_excel('In store Transactions Sample.xlsx', sheet_name='Transactions')"
   ]
  },
  {
   "cell_type": "code",
   "execution_count": 3,
   "metadata": {},
   "outputs": [
    {
     "data": {
      "text/html": [
       "<div>\n",
       "<style scoped>\n",
       "    .dataframe tbody tr th:only-of-type {\n",
       "        vertical-align: middle;\n",
       "    }\n",
       "\n",
       "    .dataframe tbody tr th {\n",
       "        vertical-align: top;\n",
       "    }\n",
       "\n",
       "    .dataframe thead th {\n",
       "        text-align: right;\n",
       "    }\n",
       "</style>\n",
       "<table border=\"1\" class=\"dataframe\">\n",
       "  <thead>\n",
       "    <tr style=\"text-align: right;\">\n",
       "      <th></th>\n",
       "      <th>SHOP_WEEK</th>\n",
       "      <th>SHOP_DATE</th>\n",
       "      <th>SHOP_WEEKDAY</th>\n",
       "      <th>SHOP_HOUR</th>\n",
       "      <th>QUANTITY</th>\n",
       "      <th>SPEND</th>\n",
       "      <th>PROD_CODE</th>\n",
       "      <th>PROD_CODE_10</th>\n",
       "      <th>PROD_CODE_20</th>\n",
       "      <th>PROD_CODE_30</th>\n",
       "      <th>...</th>\n",
       "      <th>CUST_PRICE_SENSITIVITY</th>\n",
       "      <th>CUST_LIFESTAGE</th>\n",
       "      <th>BASKET_ID</th>\n",
       "      <th>BASKET_SIZE</th>\n",
       "      <th>BASKET_PRICE_SENSITIVITY</th>\n",
       "      <th>BASKET_TYPE</th>\n",
       "      <th>BASKET_DOMINANT_MISSION</th>\n",
       "      <th>STORE_CODE</th>\n",
       "      <th>STORE_FORMAT</th>\n",
       "      <th>STORE_REGION</th>\n",
       "    </tr>\n",
       "  </thead>\n",
       "  <tbody>\n",
       "    <tr>\n",
       "      <td>0</td>\n",
       "      <td>200801</td>\n",
       "      <td>20080227</td>\n",
       "      <td>4</td>\n",
       "      <td>21</td>\n",
       "      <td>1</td>\n",
       "      <td>1.83</td>\n",
       "      <td>PRD0900159</td>\n",
       "      <td>CL00029</td>\n",
       "      <td>DEP00008</td>\n",
       "      <td>G00004</td>\n",
       "      <td>...</td>\n",
       "      <td>MM</td>\n",
       "      <td>OT</td>\n",
       "      <td>994109900672999</td>\n",
       "      <td>M</td>\n",
       "      <td>UM</td>\n",
       "      <td>Small Shop</td>\n",
       "      <td>Fresh</td>\n",
       "      <td>STORE00001</td>\n",
       "      <td>LS</td>\n",
       "      <td>E02</td>\n",
       "    </tr>\n",
       "    <tr>\n",
       "      <td>1</td>\n",
       "      <td>200801</td>\n",
       "      <td>20080227</td>\n",
       "      <td>4</td>\n",
       "      <td>21</td>\n",
       "      <td>1</td>\n",
       "      <td>0.86</td>\n",
       "      <td>PRD0900531</td>\n",
       "      <td>CL00026</td>\n",
       "      <td>DEP00008</td>\n",
       "      <td>G00004</td>\n",
       "      <td>...</td>\n",
       "      <td>MM</td>\n",
       "      <td>OT</td>\n",
       "      <td>994109900672999</td>\n",
       "      <td>M</td>\n",
       "      <td>UM</td>\n",
       "      <td>Small Shop</td>\n",
       "      <td>Fresh</td>\n",
       "      <td>STORE00001</td>\n",
       "      <td>LS</td>\n",
       "      <td>E02</td>\n",
       "    </tr>\n",
       "    <tr>\n",
       "      <td>2</td>\n",
       "      <td>200801</td>\n",
       "      <td>20080226</td>\n",
       "      <td>3</td>\n",
       "      <td>16</td>\n",
       "      <td>1</td>\n",
       "      <td>1.12</td>\n",
       "      <td>PRD0900925</td>\n",
       "      <td>CL00035</td>\n",
       "      <td>DEP00009</td>\n",
       "      <td>G00004</td>\n",
       "      <td>...</td>\n",
       "      <td>NaN</td>\n",
       "      <td>NaN</td>\n",
       "      <td>994109900067463</td>\n",
       "      <td>M</td>\n",
       "      <td>UM</td>\n",
       "      <td>Small Shop</td>\n",
       "      <td>Fresh</td>\n",
       "      <td>STORE00001</td>\n",
       "      <td>LS</td>\n",
       "      <td>E02</td>\n",
       "    </tr>\n",
       "    <tr>\n",
       "      <td>3</td>\n",
       "      <td>200801</td>\n",
       "      <td>20080228</td>\n",
       "      <td>5</td>\n",
       "      <td>19</td>\n",
       "      <td>3</td>\n",
       "      <td>3.42</td>\n",
       "      <td>PRD0901465</td>\n",
       "      <td>CL00005</td>\n",
       "      <td>DEP00002</td>\n",
       "      <td>G00001</td>\n",
       "      <td>...</td>\n",
       "      <td>MM</td>\n",
       "      <td>OA</td>\n",
       "      <td>994109900364398</td>\n",
       "      <td>M</td>\n",
       "      <td>UM</td>\n",
       "      <td>Small Shop</td>\n",
       "      <td>Fresh</td>\n",
       "      <td>STORE00001</td>\n",
       "      <td>LS</td>\n",
       "      <td>E02</td>\n",
       "    </tr>\n",
       "    <tr>\n",
       "      <td>4</td>\n",
       "      <td>200801</td>\n",
       "      <td>20080227</td>\n",
       "      <td>4</td>\n",
       "      <td>21</td>\n",
       "      <td>1</td>\n",
       "      <td>0.97</td>\n",
       "      <td>PRD0902700</td>\n",
       "      <td>CL00042</td>\n",
       "      <td>DEP00011</td>\n",
       "      <td>G00004</td>\n",
       "      <td>...</td>\n",
       "      <td>MM</td>\n",
       "      <td>OT</td>\n",
       "      <td>994109900672999</td>\n",
       "      <td>M</td>\n",
       "      <td>UM</td>\n",
       "      <td>Small Shop</td>\n",
       "      <td>Fresh</td>\n",
       "      <td>STORE00001</td>\n",
       "      <td>LS</td>\n",
       "      <td>E02</td>\n",
       "    </tr>\n",
       "  </tbody>\n",
       "</table>\n",
       "<p>5 rows × 22 columns</p>\n",
       "</div>"
      ],
      "text/plain": [
       "   SHOP_WEEK  SHOP_DATE  SHOP_WEEKDAY  SHOP_HOUR  QUANTITY  SPEND   PROD_CODE  \\\n",
       "0     200801   20080227             4         21         1   1.83  PRD0900159   \n",
       "1     200801   20080227             4         21         1   0.86  PRD0900531   \n",
       "2     200801   20080226             3         16         1   1.12  PRD0900925   \n",
       "3     200801   20080228             5         19         3   3.42  PRD0901465   \n",
       "4     200801   20080227             4         21         1   0.97  PRD0902700   \n",
       "\n",
       "  PROD_CODE_10 PROD_CODE_20 PROD_CODE_30  ... CUST_PRICE_SENSITIVITY  \\\n",
       "0      CL00029     DEP00008       G00004  ...                     MM   \n",
       "1      CL00026     DEP00008       G00004  ...                     MM   \n",
       "2      CL00035     DEP00009       G00004  ...                    NaN   \n",
       "3      CL00005     DEP00002       G00001  ...                     MM   \n",
       "4      CL00042     DEP00011       G00004  ...                     MM   \n",
       "\n",
       "  CUST_LIFESTAGE        BASKET_ID BASKET_SIZE  BASKET_PRICE_SENSITIVITY  \\\n",
       "0             OT  994109900672999           M                        UM   \n",
       "1             OT  994109900672999           M                        UM   \n",
       "2            NaN  994109900067463           M                        UM   \n",
       "3             OA  994109900364398           M                        UM   \n",
       "4             OT  994109900672999           M                        UM   \n",
       "\n",
       "  BASKET_TYPE BASKET_DOMINANT_MISSION  STORE_CODE STORE_FORMAT STORE_REGION  \n",
       "0  Small Shop                   Fresh  STORE00001           LS          E02  \n",
       "1  Small Shop                   Fresh  STORE00001           LS          E02  \n",
       "2  Small Shop                   Fresh  STORE00001           LS          E02  \n",
       "3  Small Shop                   Fresh  STORE00001           LS          E02  \n",
       "4  Small Shop                   Fresh  STORE00001           LS          E02  \n",
       "\n",
       "[5 rows x 22 columns]"
      ]
     },
     "execution_count": 3,
     "metadata": {},
     "output_type": "execute_result"
    }
   ],
   "source": [
    "df.head()"
   ]
  },
  {
   "cell_type": "code",
   "execution_count": 4,
   "metadata": {},
   "outputs": [
    {
     "name": "stdout",
     "output_type": "stream",
     "text": [
      "<class 'pandas.core.frame.DataFrame'>\n",
      "RangeIndex: 80661 entries, 0 to 80660\n",
      "Data columns (total 22 columns):\n",
      "SHOP_WEEK                   80661 non-null int64\n",
      "SHOP_DATE                   80661 non-null int64\n",
      "SHOP_WEEKDAY                80661 non-null int64\n",
      "SHOP_HOUR                   80661 non-null int64\n",
      "QUANTITY                    80661 non-null int64\n",
      "SPEND                       80661 non-null float64\n",
      "PROD_CODE                   80661 non-null object\n",
      "PROD_CODE_10                80661 non-null object\n",
      "PROD_CODE_20                80661 non-null object\n",
      "PROD_CODE_30                80661 non-null object\n",
      "PROD_CODE_40                80661 non-null object\n",
      "CUST_CODE                   64984 non-null object\n",
      "CUST_PRICE_SENSITIVITY      64984 non-null object\n",
      "CUST_LIFESTAGE              57917 non-null object\n",
      "BASKET_ID                   80661 non-null int64\n",
      "BASKET_SIZE                 80661 non-null object\n",
      "BASKET_PRICE_SENSITIVITY    80661 non-null object\n",
      "BASKET_TYPE                 80661 non-null object\n",
      "BASKET_DOMINANT_MISSION     80661 non-null object\n",
      "STORE_CODE                  80661 non-null object\n",
      "STORE_FORMAT                80661 non-null object\n",
      "STORE_REGION                80661 non-null object\n",
      "dtypes: float64(1), int64(6), object(15)\n",
      "memory usage: 13.5+ MB\n"
     ]
    }
   ],
   "source": [
    "df.info()"
   ]
  },
  {
   "cell_type": "markdown",
   "metadata": {},
   "source": [
    "**Calculate Total Purchase**"
   ]
  },
  {
   "cell_type": "code",
   "execution_count": 5,
   "metadata": {},
   "outputs": [],
   "source": [
    "df['TOTAL_PRICE']=df['QUANTITY']*df['SPEND']"
   ]
  },
  {
   "cell_type": "code",
   "execution_count": 6,
   "metadata": {},
   "outputs": [
    {
     "data": {
      "text/html": [
       "<div>\n",
       "<style scoped>\n",
       "    .dataframe tbody tr th:only-of-type {\n",
       "        vertical-align: middle;\n",
       "    }\n",
       "\n",
       "    .dataframe tbody tr th {\n",
       "        vertical-align: top;\n",
       "    }\n",
       "\n",
       "    .dataframe thead th {\n",
       "        text-align: right;\n",
       "    }\n",
       "</style>\n",
       "<table border=\"1\" class=\"dataframe\">\n",
       "  <thead>\n",
       "    <tr style=\"text-align: right;\">\n",
       "      <th></th>\n",
       "      <th>SHOP_WEEK</th>\n",
       "      <th>SHOP_DATE</th>\n",
       "      <th>SHOP_WEEKDAY</th>\n",
       "      <th>SHOP_HOUR</th>\n",
       "      <th>QUANTITY</th>\n",
       "      <th>SPEND</th>\n",
       "      <th>BASKET_ID</th>\n",
       "      <th>TOTAL_PRICE</th>\n",
       "    </tr>\n",
       "  </thead>\n",
       "  <tbody>\n",
       "    <tr>\n",
       "      <td>count</td>\n",
       "      <td>80661.000000</td>\n",
       "      <td>8.066100e+04</td>\n",
       "      <td>80661.000000</td>\n",
       "      <td>80661.000000</td>\n",
       "      <td>80661.000000</td>\n",
       "      <td>80661.000000</td>\n",
       "      <td>8.066100e+04</td>\n",
       "      <td>80661.000000</td>\n",
       "    </tr>\n",
       "    <tr>\n",
       "      <td>mean</td>\n",
       "      <td>200802.004624</td>\n",
       "      <td>2.008029e+07</td>\n",
       "      <td>3.979073</td>\n",
       "      <td>14.858879</td>\n",
       "      <td>1.593620</td>\n",
       "      <td>1.960677</td>\n",
       "      <td>9.941100e+14</td>\n",
       "      <td>4.349692</td>\n",
       "    </tr>\n",
       "    <tr>\n",
       "      <td>std</td>\n",
       "      <td>0.813637</td>\n",
       "      <td>3.481709e+01</td>\n",
       "      <td>1.993215</td>\n",
       "      <td>3.670340</td>\n",
       "      <td>1.884405</td>\n",
       "      <td>2.892889</td>\n",
       "      <td>8.136288e+07</td>\n",
       "      <td>28.322846</td>\n",
       "    </tr>\n",
       "    <tr>\n",
       "      <td>min</td>\n",
       "      <td>200801.000000</td>\n",
       "      <td>2.008022e+07</td>\n",
       "      <td>1.000000</td>\n",
       "      <td>8.000000</td>\n",
       "      <td>1.000000</td>\n",
       "      <td>0.010000</td>\n",
       "      <td>9.941099e+14</td>\n",
       "      <td>0.010000</td>\n",
       "    </tr>\n",
       "    <tr>\n",
       "      <td>25%</td>\n",
       "      <td>200801.000000</td>\n",
       "      <td>2.008030e+07</td>\n",
       "      <td>2.000000</td>\n",
       "      <td>12.000000</td>\n",
       "      <td>1.000000</td>\n",
       "      <td>0.780000</td>\n",
       "      <td>9.941099e+14</td>\n",
       "      <td>0.810000</td>\n",
       "    </tr>\n",
       "    <tr>\n",
       "      <td>50%</td>\n",
       "      <td>200802.000000</td>\n",
       "      <td>2.008031e+07</td>\n",
       "      <td>4.000000</td>\n",
       "      <td>15.000000</td>\n",
       "      <td>1.000000</td>\n",
       "      <td>1.250000</td>\n",
       "      <td>9.941100e+14</td>\n",
       "      <td>1.350000</td>\n",
       "    </tr>\n",
       "    <tr>\n",
       "      <td>75%</td>\n",
       "      <td>200803.000000</td>\n",
       "      <td>2.008031e+07</td>\n",
       "      <td>6.000000</td>\n",
       "      <td>18.000000</td>\n",
       "      <td>1.000000</td>\n",
       "      <td>2.120000</td>\n",
       "      <td>9.941101e+14</td>\n",
       "      <td>2.550000</td>\n",
       "    </tr>\n",
       "    <tr>\n",
       "      <td>max</td>\n",
       "      <td>200803.000000</td>\n",
       "      <td>2.008032e+07</td>\n",
       "      <td>7.000000</td>\n",
       "      <td>21.000000</td>\n",
       "      <td>107.000000</td>\n",
       "      <td>184.800000</td>\n",
       "      <td>9.941101e+14</td>\n",
       "      <td>3951.360000</td>\n",
       "    </tr>\n",
       "  </tbody>\n",
       "</table>\n",
       "</div>"
      ],
      "text/plain": [
       "           SHOP_WEEK     SHOP_DATE  SHOP_WEEKDAY     SHOP_HOUR      QUANTITY  \\\n",
       "count   80661.000000  8.066100e+04  80661.000000  80661.000000  80661.000000   \n",
       "mean   200802.004624  2.008029e+07      3.979073     14.858879      1.593620   \n",
       "std         0.813637  3.481709e+01      1.993215      3.670340      1.884405   \n",
       "min    200801.000000  2.008022e+07      1.000000      8.000000      1.000000   \n",
       "25%    200801.000000  2.008030e+07      2.000000     12.000000      1.000000   \n",
       "50%    200802.000000  2.008031e+07      4.000000     15.000000      1.000000   \n",
       "75%    200803.000000  2.008031e+07      6.000000     18.000000      1.000000   \n",
       "max    200803.000000  2.008032e+07      7.000000     21.000000    107.000000   \n",
       "\n",
       "              SPEND     BASKET_ID   TOTAL_PRICE  \n",
       "count  80661.000000  8.066100e+04  80661.000000  \n",
       "mean       1.960677  9.941100e+14      4.349692  \n",
       "std        2.892889  8.136288e+07     28.322846  \n",
       "min        0.010000  9.941099e+14      0.010000  \n",
       "25%        0.780000  9.941099e+14      0.810000  \n",
       "50%        1.250000  9.941100e+14      1.350000  \n",
       "75%        2.120000  9.941101e+14      2.550000  \n",
       "max      184.800000  9.941101e+14   3951.360000  "
      ]
     },
     "execution_count": 6,
     "metadata": {},
     "output_type": "execute_result"
    }
   ],
   "source": [
    "df.describe()"
   ]
  },
  {
   "cell_type": "markdown",
   "metadata": {},
   "source": [
    "**Total Revenue and it's 80%**\n",
    "\n",
    "*It is believed that 80% of revenue comes from 20% of customers. However, analysis of cummulative profits generated by customers proves it wrong for this specific case, probability due to limited data from a timeframe of only 3 weeks.*"
   ]
  },
  {
   "cell_type": "code",
   "execution_count": 7,
   "metadata": {},
   "outputs": [
    {
     "data": {
      "text/plain": [
       "280680.408"
      ]
     },
     "execution_count": 7,
     "metadata": {},
     "output_type": "execute_result"
    }
   ],
   "source": [
    "df['TOTAL_PRICE'].sum()*0.8"
   ]
  },
  {
   "cell_type": "code",
   "execution_count": 8,
   "metadata": {},
   "outputs": [],
   "source": [
    "df['SHOP_DATE']=df['SHOP_DATE'].apply(lambda x: dt.datetime.strptime(str(x), '%Y%m%d'))"
   ]
  },
  {
   "cell_type": "code",
   "execution_count": 9,
   "metadata": {},
   "outputs": [],
   "source": [
    "df['MONTH']=df['SHOP_DATE'].apply(lambda x: x.month)\n",
    "df['DAY']=df['SHOP_DATE'].apply(lambda x: x.day)"
   ]
  },
  {
   "cell_type": "code",
   "execution_count": 10,
   "metadata": {},
   "outputs": [
    {
     "data": {
      "text/plain": [
       "2626"
      ]
     },
     "execution_count": 10,
     "metadata": {},
     "output_type": "execute_result"
    }
   ],
   "source": [
    "df['CUST_CODE'].nunique()"
   ]
  },
  {
   "cell_type": "code",
   "execution_count": 32,
   "metadata": {},
   "outputs": [
    {
     "data": {
      "text/plain": [
       "<matplotlib.axes._subplots.AxesSubplot at 0x1b06083edc8>"
      ]
     },
     "execution_count": 32,
     "metadata": {},
     "output_type": "execute_result"
    },
    {
     "data": {
      "image/png": "[encoded data removed]",
      "text/plain": [
       "<Figure size 432x288 with 1 Axes>"
      ]
     },
     "metadata": {
      "needs_background": "light"
     },
     "output_type": "display_data"
    }
   ],
   "source": [
    "df.groupby('SHOP_WEEK').sum()['TOTAL_PRICE'].plot()"
   ]
  },
  {
   "cell_type": "code",
   "execution_count": 31,
   "metadata": {},
   "outputs": [
    {
     "data": {
      "text/plain": [
       "Text(0.5, 0, 'Purchase Week')"
      ]
     },
     "execution_count": 31,
     "metadata": {},
     "output_type": "execute_result"
    },
    {
     "data": {
      "image/png": "[encoded data removed]",
      "text/plain": [
       "<Figure size 432x288 with 1 Axes>"
      ]
     },
     "metadata": {
      "needs_background": "light"
     },
     "output_type": "display_data"
    }
   ],
   "source": [
    "sns.barplot(x=[1,2,3], y=df.groupby('SHOP_WEEK').sum()['TOTAL_PRICE'])\n",
    "plt.ylabel('Total_Price')\n",
    "plt.xlabel('Purchase Week')"
   ]
  },
  {
   "cell_type": "code",
   "execution_count": 12,
   "metadata": {},
   "outputs": [],
   "source": [
    "pivot_weekly=df.pivot_table(index='CUST_CODE', columns='SHOP_WEEK', values='TOTAL_PRICE', aggfunc='sum')"
   ]
  },
  {
   "cell_type": "markdown",
   "metadata": {},
   "source": [
    "**Those customer whose purchase has been increased every week**"
   ]
  },
  {
   "cell_type": "code",
   "execution_count": 13,
   "metadata": {},
   "outputs": [
    {
     "data": {
      "text/html": [
       "<div>\n",
       "<style scoped>\n",
       "    .dataframe tbody tr th:only-of-type {\n",
       "        vertical-align: middle;\n",
       "    }\n",
       "\n",
       "    .dataframe tbody tr th {\n",
       "        vertical-align: top;\n",
       "    }\n",
       "\n",
       "    .dataframe thead th {\n",
       "        text-align: right;\n",
       "    }\n",
       "</style>\n",
       "<table border=\"1\" class=\"dataframe\">\n",
       "  <thead>\n",
       "    <tr style=\"text-align: right;\">\n",
       "      <th>SHOP_WEEK</th>\n",
       "      <th>200801</th>\n",
       "      <th>200802</th>\n",
       "      <th>200803</th>\n",
       "    </tr>\n",
       "    <tr>\n",
       "      <th>CUST_CODE</th>\n",
       "      <th></th>\n",
       "      <th></th>\n",
       "      <th></th>\n",
       "    </tr>\n",
       "  </thead>\n",
       "  <tbody>\n",
       "    <tr>\n",
       "      <td>CUST0000001392</td>\n",
       "      <td>25.32</td>\n",
       "      <td>27.68</td>\n",
       "      <td>32.80</td>\n",
       "    </tr>\n",
       "    <tr>\n",
       "      <td>CUST0000001437</td>\n",
       "      <td>0.85</td>\n",
       "      <td>1.89</td>\n",
       "      <td>27.59</td>\n",
       "    </tr>\n",
       "    <tr>\n",
       "      <td>CUST0000003447</td>\n",
       "      <td>24.11</td>\n",
       "      <td>64.08</td>\n",
       "      <td>74.72</td>\n",
       "    </tr>\n",
       "    <tr>\n",
       "      <td>CUST0000007046</td>\n",
       "      <td>19.42</td>\n",
       "      <td>27.31</td>\n",
       "      <td>48.86</td>\n",
       "    </tr>\n",
       "    <tr>\n",
       "      <td>CUST0000007988</td>\n",
       "      <td>0.98</td>\n",
       "      <td>3.39</td>\n",
       "      <td>14.08</td>\n",
       "    </tr>\n",
       "    <tr>\n",
       "      <td>...</td>\n",
       "      <td>...</td>\n",
       "      <td>...</td>\n",
       "      <td>...</td>\n",
       "    </tr>\n",
       "    <tr>\n",
       "      <td>CUST0000969621</td>\n",
       "      <td>0.98</td>\n",
       "      <td>5.38</td>\n",
       "      <td>77.10</td>\n",
       "    </tr>\n",
       "    <tr>\n",
       "      <td>CUST0000971633</td>\n",
       "      <td>66.30</td>\n",
       "      <td>112.21</td>\n",
       "      <td>165.38</td>\n",
       "    </tr>\n",
       "    <tr>\n",
       "      <td>CUST0000974297</td>\n",
       "      <td>9.81</td>\n",
       "      <td>34.76</td>\n",
       "      <td>418.75</td>\n",
       "    </tr>\n",
       "    <tr>\n",
       "      <td>CUST0000987552</td>\n",
       "      <td>1.46</td>\n",
       "      <td>78.81</td>\n",
       "      <td>216.40</td>\n",
       "    </tr>\n",
       "    <tr>\n",
       "      <td>CUST0000990044</td>\n",
       "      <td>9.09</td>\n",
       "      <td>11.45</td>\n",
       "      <td>40.86</td>\n",
       "    </tr>\n",
       "  </tbody>\n",
       "</table>\n",
       "<p>177 rows × 3 columns</p>\n",
       "</div>"
      ],
      "text/plain": [
       "SHOP_WEEK       200801  200802  200803\n",
       "CUST_CODE                             \n",
       "CUST0000001392   25.32   27.68   32.80\n",
       "CUST0000001437    0.85    1.89   27.59\n",
       "CUST0000003447   24.11   64.08   74.72\n",
       "CUST0000007046   19.42   27.31   48.86\n",
       "CUST0000007988    0.98    3.39   14.08\n",
       "...                ...     ...     ...\n",
       "CUST0000969621    0.98    5.38   77.10\n",
       "CUST0000971633   66.30  112.21  165.38\n",
       "CUST0000974297    9.81   34.76  418.75\n",
       "CUST0000987552    1.46   78.81  216.40\n",
       "CUST0000990044    9.09   11.45   40.86\n",
       "\n",
       "[177 rows x 3 columns]"
      ]
     },
     "execution_count": 13,
     "metadata": {},
     "output_type": "execute_result"
    }
   ],
   "source": [
    "pivot_weekly[(pivot_weekly[200801]<pivot_weekly[200802]) & (pivot_weekly[200802]<pivot_weekly[200803])]"
   ]
  },
  {
   "cell_type": "markdown",
   "metadata": {},
   "source": [
    "**Recognize the most profitable customers**"
   ]
  },
  {
   "cell_type": "code",
   "execution_count": 14,
   "metadata": {},
   "outputs": [
    {
     "data": {
      "text/plain": [
       "(2626, 9)"
      ]
     },
     "execution_count": 14,
     "metadata": {},
     "output_type": "execute_result"
    }
   ],
   "source": [
    "df.groupby('CUST_CODE').sum().sort_values('TOTAL_PRICE',ascending=False).shape"
   ]
  },
  {
   "cell_type": "code",
   "execution_count": 15,
   "metadata": {},
   "outputs": [],
   "source": [
    "cumprof=[]\n",
    "for i in range(1,2627):\n",
    "    cumprof.append(df.groupby('CUST_CODE').sum().sort_values('TOTAL_PRICE',ascending=False).head(i).sum()['TOTAL_PRICE'])"
   ]
  },
  {
   "cell_type": "code",
   "execution_count": 16,
   "metadata": {},
   "outputs": [],
   "source": [
    "cumprof=pd.DataFrame(data=cumprof, index=range(1,2627), columns=['CUMPROF'])"
   ]
  },
  {
   "cell_type": "code",
   "execution_count": 17,
   "metadata": {},
   "outputs": [
    {
     "data": {
      "text/plain": [
       "Text(0, 0.5, 'Revenue')"
      ]
     },
     "execution_count": 17,
     "metadata": {},
     "output_type": "execute_result"
    },
    {
     "data": {
      "image/png": "[encoded data removed]",
      "text/plain": [
       "<Figure size 864x360 with 1 Axes>"
      ]
     },
     "metadata": {
      "needs_background": "light"
     },
     "output_type": "display_data"
    }
   ],
   "source": [
    "cumprof.plot(figsize=(12,5))\n",
    "plt.xlabel('Top Customers Sorted Descendingly')\n",
    "plt.ylabel('Revenue')"
   ]
  },
  {
   "cell_type": "markdown",
   "metadata": {},
   "source": [
    "**Filter 1500 top customers**"
   ]
  },
  {
   "cell_type": "code",
   "execution_count": 180,
   "metadata": {},
   "outputs": [],
   "source": [
    "top1500index=df.groupby('CUST_CODE').sum().sort_values('TOTAL_PRICE',ascending=False).iloc[:1500,:].index"
   ]
  },
  {
   "cell_type": "markdown",
   "metadata": {},
   "source": [
    "**How much is the repeat rate, and churn rate?**"
   ]
  },
  {
   "cell_type": "code",
   "execution_count": 102,
   "metadata": {},
   "outputs": [],
   "source": [
    "##of customer who purchased atleast two different times\n",
    "repeat=sum(df.groupby(['CUST_CODE','SHOP_DATE']).count()['SHOP_WEEK'].unstack().apply(lambda x: x.count(), axis=1)>1) "
   ]
  },
  {
   "cell_type": "code",
   "execution_count": 114,
   "metadata": {},
   "outputs": [],
   "source": [
    "repeat_rate=repeat/df['CUST_CODE'].nunique()"
   ]
  },
  {
   "cell_type": "code",
   "execution_count": 119,
   "metadata": {},
   "outputs": [
    {
     "data": {
      "text/plain": [
       "76.00913937547601"
      ]
     },
     "execution_count": 119,
     "metadata": {},
     "output_type": "execute_result"
    }
   ],
   "source": [
    "repeat_rate*100"
   ]
  },
  {
   "cell_type": "code",
   "execution_count": 117,
   "metadata": {},
   "outputs": [],
   "source": [
    "churn=1-repar_rate"
   ]
  },
  {
   "cell_type": "code",
   "execution_count": 120,
   "metadata": {},
   "outputs": [
    {
     "data": {
      "text/plain": [
       "23.99086062452399"
      ]
     },
     "execution_count": 120,
     "metadata": {},
     "output_type": "execute_result"
    }
   ],
   "source": [
    "churn*100"
   ]
  },
  {
   "cell_type": "code",
   "execution_count": 156,
   "metadata": {},
   "outputs": [
    {
     "data": {
      "text/plain": [
       "Text(0.5, 0, '# of purchase repetition')"
      ]
     },
     "execution_count": 156,
     "metadata": {},
     "output_type": "execute_result"
    },
    {
     "data": {
      "image/png": "[encoded data removed]",
      "text/plain": [
       "<Figure size 432x288 with 1 Axes>"
      ]
     },
     "metadata": {
      "needs_background": "light"
     },
     "output_type": "display_data"
    }
   ],
   "source": [
    "df.groupby(['CUST_CODE','SHOP_DATE']).count()['SHOP_WEEK'].unstack().apply(lambda x: x.count(), \n",
    "                    axis=1).value_counts().plot(marker='o', linestyle='--', linewidth=2, \n",
    "                    markersize=7, mfc='red')\n",
    "plt.ylabel('# of customers')\n",
    "plt.xlabel('# of purchase repetition')"
   ]
  },
  {
   "cell_type": "code",
   "execution_count": 162,
   "metadata": {},
   "outputs": [],
   "source": [
    "REPEAT=pd.DataFrame(df.groupby(['CUST_CODE','SHOP_DATE']).count()['SHOP_WEEK'].unstack().apply(lambda x: x.count(),axis=1), columns=['REPEAT'])"
   ]
  },
  {
   "cell_type": "markdown",
   "metadata": {},
   "source": [
    "**We filter the customers with more than 1 purchases**"
   ]
  },
  {
   "cell_type": "code",
   "execution_count": 228,
   "metadata": {},
   "outputs": [],
   "source": [
    "repindex=REPEAT[REPEAT['REPEAT']>1].index"
   ]
  },
  {
   "cell_type": "markdown",
   "metadata": {},
   "source": [
    "**We create a dataframe including only those customers with more than 1 purchase and in the list of top 1500 members. This is to capture both frequency and monetary. Three elements of CLTV are: Frequency, monetary, and recency, however, the total period within which data is available is limitted to 3 consecutive weeks only and we can not take recency into account.** "
   ]
  },
  {
   "cell_type": "code",
   "execution_count": 232,
   "metadata": {},
   "outputs": [],
   "source": [
    "filtered_indeces=np.intersect1d(np.array(repindex), np.array(top1500index))"
   ]
  },
  {
   "cell_type": "code",
   "execution_count": 234,
   "metadata": {},
   "outputs": [
    {
     "data": {
      "text/plain": [
       "(1355,)"
      ]
     },
     "execution_count": 234,
     "metadata": {},
     "output_type": "execute_result"
    }
   ],
   "source": [
    "filtered_indeces.shape # we have 1355 customers with more than one purchase who are also in the 1500-top-customers list."
   ]
  },
  {
   "cell_type": "code",
   "execution_count": 258,
   "metadata": {},
   "outputs": [],
   "source": [
    "top_customers=df[df['CUST_CODE'].apply(lambda x: x in list(filtered_indeces))]"
   ]
  },
  {
   "cell_type": "code",
   "execution_count": 259,
   "metadata": {},
   "outputs": [
    {
     "data": {
      "text/html": [
       "<div>\n",
       "<style scoped>\n",
       "    .dataframe tbody tr th:only-of-type {\n",
       "        vertical-align: middle;\n",
       "    }\n",
       "\n",
       "    .dataframe tbody tr th {\n",
       "        vertical-align: top;\n",
       "    }\n",
       "\n",
       "    .dataframe thead th {\n",
       "        text-align: right;\n",
       "    }\n",
       "</style>\n",
       "<table border=\"1\" class=\"dataframe\">\n",
       "  <thead>\n",
       "    <tr style=\"text-align: right;\">\n",
       "      <th></th>\n",
       "      <th>SHOP_WEEK</th>\n",
       "      <th>SHOP_DATE</th>\n",
       "      <th>SHOP_WEEKDAY</th>\n",
       "      <th>SHOP_HOUR</th>\n",
       "      <th>QUANTITY</th>\n",
       "      <th>SPEND</th>\n",
       "      <th>PROD_CODE</th>\n",
       "      <th>PROD_CODE_10</th>\n",
       "      <th>PROD_CODE_20</th>\n",
       "      <th>PROD_CODE_30</th>\n",
       "      <th>...</th>\n",
       "      <th>BASKET_SIZE</th>\n",
       "      <th>BASKET_PRICE_SENSITIVITY</th>\n",
       "      <th>BASKET_TYPE</th>\n",
       "      <th>BASKET_DOMINANT_MISSION</th>\n",
       "      <th>STORE_CODE</th>\n",
       "      <th>STORE_FORMAT</th>\n",
       "      <th>STORE_REGION</th>\n",
       "      <th>TOTAL_PRICE</th>\n",
       "      <th>MONTH</th>\n",
       "      <th>DAY</th>\n",
       "    </tr>\n",
       "  </thead>\n",
       "  <tbody>\n",
       "    <tr>\n",
       "      <td>3</td>\n",
       "      <td>200801</td>\n",
       "      <td>2008-02-28</td>\n",
       "      <td>5</td>\n",
       "      <td>19</td>\n",
       "      <td>3</td>\n",
       "      <td>3.42</td>\n",
       "      <td>PRD0901465</td>\n",
       "      <td>CL00005</td>\n",
       "      <td>DEP00002</td>\n",
       "      <td>G00001</td>\n",
       "      <td>...</td>\n",
       "      <td>M</td>\n",
       "      <td>UM</td>\n",
       "      <td>Small Shop</td>\n",
       "      <td>Fresh</td>\n",
       "      <td>STORE00001</td>\n",
       "      <td>LS</td>\n",
       "      <td>E02</td>\n",
       "      <td>10.26</td>\n",
       "      <td>2</td>\n",
       "      <td>28</td>\n",
       "    </tr>\n",
       "    <tr>\n",
       "      <td>5</td>\n",
       "      <td>200801</td>\n",
       "      <td>2008-02-25</td>\n",
       "      <td>2</td>\n",
       "      <td>17</td>\n",
       "      <td>1</td>\n",
       "      <td>0.19</td>\n",
       "      <td>PRD0903052</td>\n",
       "      <td>CL00031</td>\n",
       "      <td>DEP00008</td>\n",
       "      <td>G00004</td>\n",
       "      <td>...</td>\n",
       "      <td>S</td>\n",
       "      <td>UM</td>\n",
       "      <td>Small Shop</td>\n",
       "      <td>Fresh</td>\n",
       "      <td>STORE00001</td>\n",
       "      <td>LS</td>\n",
       "      <td>E02</td>\n",
       "      <td>0.19</td>\n",
       "      <td>2</td>\n",
       "      <td>25</td>\n",
       "    </tr>\n",
       "    <tr>\n",
       "      <td>12</td>\n",
       "      <td>200801</td>\n",
       "      <td>2008-02-28</td>\n",
       "      <td>5</td>\n",
       "      <td>19</td>\n",
       "      <td>1</td>\n",
       "      <td>2.65</td>\n",
       "      <td>PRD0904036</td>\n",
       "      <td>CL00198</td>\n",
       "      <td>DEP00067</td>\n",
       "      <td>G00021</td>\n",
       "      <td>...</td>\n",
       "      <td>M</td>\n",
       "      <td>UM</td>\n",
       "      <td>Small Shop</td>\n",
       "      <td>Fresh</td>\n",
       "      <td>STORE00001</td>\n",
       "      <td>LS</td>\n",
       "      <td>E02</td>\n",
       "      <td>2.65</td>\n",
       "      <td>2</td>\n",
       "      <td>28</td>\n",
       "    </tr>\n",
       "  </tbody>\n",
       "</table>\n",
       "<p>3 rows × 25 columns</p>\n",
       "</div>"
      ],
      "text/plain": [
       "    SHOP_WEEK  SHOP_DATE  SHOP_WEEKDAY  SHOP_HOUR  QUANTITY  SPEND  \\\n",
       "3      200801 2008-02-28             5         19         3   3.42   \n",
       "5      200801 2008-02-25             2         17         1   0.19   \n",
       "12     200801 2008-02-28             5         19         1   2.65   \n",
       "\n",
       "     PROD_CODE PROD_CODE_10 PROD_CODE_20 PROD_CODE_30  ... BASKET_SIZE  \\\n",
       "3   PRD0901465      CL00005     DEP00002       G00001  ...           M   \n",
       "5   PRD0903052      CL00031     DEP00008       G00004  ...           S   \n",
       "12  PRD0904036      CL00198     DEP00067       G00021  ...           M   \n",
       "\n",
       "   BASKET_PRICE_SENSITIVITY BASKET_TYPE BASKET_DOMINANT_MISSION  STORE_CODE  \\\n",
       "3                        UM  Small Shop                   Fresh  STORE00001   \n",
       "5                        UM  Small Shop                   Fresh  STORE00001   \n",
       "12                       UM  Small Shop                   Fresh  STORE00001   \n",
       "\n",
       "   STORE_FORMAT STORE_REGION TOTAL_PRICE MONTH DAY  \n",
       "3            LS          E02       10.26     2  28  \n",
       "5            LS          E02        0.19     2  25  \n",
       "12           LS          E02        2.65     2  28  \n",
       "\n",
       "[3 rows x 25 columns]"
      ]
     },
     "execution_count": 259,
     "metadata": {},
     "output_type": "execute_result"
    }
   ],
   "source": [
    "top_customers.head(3)"
   ]
  },
  {
   "cell_type": "markdown",
   "metadata": {},
   "source": [
    "### What is the contribution of different parameters (below) in total_price earned from top customers purchases\n",
    "* BASKET_PRICE_SENSITIVITY\n",
    "* PROD_CODE\n",
    "* BASKET_SIZE\n",
    "* BASKET_TYPE\n",
    "* BASKET_DOMINANT_MISSION\n",
    "* STORE_FORMAT\n",
    "* STORE_REGION"
   ]
  },
  {
   "cell_type": "code",
   "execution_count": 267,
   "metadata": {},
   "outputs": [
    {
     "data": {
      "text/html": [
       "<div>\n",
       "<style scoped>\n",
       "    .dataframe tbody tr th:only-of-type {\n",
       "        vertical-align: middle;\n",
       "    }\n",
       "\n",
       "    .dataframe tbody tr th {\n",
       "        vertical-align: top;\n",
       "    }\n",
       "\n",
       "    .dataframe thead th {\n",
       "        text-align: right;\n",
       "    }\n",
       "</style>\n",
       "<table border=\"1\" class=\"dataframe\">\n",
       "  <thead>\n",
       "    <tr style=\"text-align: right;\">\n",
       "      <th></th>\n",
       "      <th>SHOP_WEEK</th>\n",
       "      <th>SHOP_WEEKDAY</th>\n",
       "      <th>SHOP_HOUR</th>\n",
       "      <th>QUANTITY</th>\n",
       "      <th>SPEND</th>\n",
       "      <th>BASKET_ID</th>\n",
       "      <th>TOTAL_PRICE</th>\n",
       "      <th>MONTH</th>\n",
       "      <th>DAY</th>\n",
       "    </tr>\n",
       "    <tr>\n",
       "      <th>BASKET_PRICE_SENSITIVITY</th>\n",
       "      <th></th>\n",
       "      <th></th>\n",
       "      <th></th>\n",
       "      <th></th>\n",
       "      <th></th>\n",
       "      <th></th>\n",
       "      <th></th>\n",
       "      <th></th>\n",
       "      <th></th>\n",
       "    </tr>\n",
       "  </thead>\n",
       "  <tbody>\n",
       "    <tr>\n",
       "      <td>LA</td>\n",
       "      <td>2.066052e+09</td>\n",
       "      <td>40706.0</td>\n",
       "      <td>151261.0</td>\n",
       "      <td>17163.0</td>\n",
       "      <td>18836.31</td>\n",
       "      <td>1.022840e+19</td>\n",
       "      <td>44971.59</td>\n",
       "      <td>28506.0</td>\n",
       "      <td>131504.0</td>\n",
       "    </tr>\n",
       "    <tr>\n",
       "      <td>MM</td>\n",
       "      <td>5.898559e+09</td>\n",
       "      <td>117367.0</td>\n",
       "      <td>430475.0</td>\n",
       "      <td>47867.0</td>\n",
       "      <td>59586.18</td>\n",
       "      <td>2.920198e+19</td>\n",
       "      <td>130970.78</td>\n",
       "      <td>80992.0</td>\n",
       "      <td>383510.0</td>\n",
       "    </tr>\n",
       "    <tr>\n",
       "      <td>UM</td>\n",
       "      <td>2.708819e+09</td>\n",
       "      <td>54451.0</td>\n",
       "      <td>196693.0</td>\n",
       "      <td>21513.0</td>\n",
       "      <td>29058.14</td>\n",
       "      <td>1.341054e+19</td>\n",
       "      <td>61616.08</td>\n",
       "      <td>37340.0</td>\n",
       "      <td>172746.0</td>\n",
       "    </tr>\n",
       "    <tr>\n",
       "      <td>XX</td>\n",
       "      <td>3.032111e+07</td>\n",
       "      <td>610.0</td>\n",
       "      <td>1989.0</td>\n",
       "      <td>333.0</td>\n",
       "      <td>364.29</td>\n",
       "      <td>1.501106e+17</td>\n",
       "      <td>590.05</td>\n",
       "      <td>426.0</td>\n",
       "      <td>1803.0</td>\n",
       "    </tr>\n",
       "  </tbody>\n",
       "</table>\n",
       "</div>"
      ],
      "text/plain": [
       "                             SHOP_WEEK  SHOP_WEEKDAY  SHOP_HOUR  QUANTITY  \\\n",
       "BASKET_PRICE_SENSITIVITY                                                    \n",
       "LA                        2.066052e+09       40706.0   151261.0   17163.0   \n",
       "MM                        5.898559e+09      117367.0   430475.0   47867.0   \n",
       "UM                        2.708819e+09       54451.0   196693.0   21513.0   \n",
       "XX                        3.032111e+07         610.0     1989.0     333.0   \n",
       "\n",
       "                             SPEND     BASKET_ID  TOTAL_PRICE    MONTH  \\\n",
       "BASKET_PRICE_SENSITIVITY                                                 \n",
       "LA                        18836.31  1.022840e+19     44971.59  28506.0   \n",
       "MM                        59586.18  2.920198e+19    130970.78  80992.0   \n",
       "UM                        29058.14  1.341054e+19     61616.08  37340.0   \n",
       "XX                          364.29  1.501106e+17       590.05    426.0   \n",
       "\n",
       "                               DAY  \n",
       "BASKET_PRICE_SENSITIVITY            \n",
       "LA                        131504.0  \n",
       "MM                        383510.0  \n",
       "UM                        172746.0  \n",
       "XX                          1803.0  "
      ]
     },
     "execution_count": 267,
     "metadata": {},
     "output_type": "execute_result"
    }
   ],
   "source": [
    "top_customers.groupby('BASKET_PRICE_SENSITIVITY').sum()"
   ]
  },
  {
   "cell_type": "code",
   "execution_count": 280,
   "metadata": {},
   "outputs": [
    {
     "data": {
      "image/png": "[encoded data removed]",
      "text/plain": [
       "<Figure size 432x288 with 1 Axes>"
      ]
     },
     "metadata": {},
     "output_type": "display_data"
    }
   ],
   "source": [
    "plt.pie(x=top_customers.groupby('BASKET_PRICE_SENSITIVITY').sum()['TOTAL_PRICE'], labels=['LA','MM','UM','XX'],colors=['red','lightblue', 'green','yellow'] )\n",
    "plt.show()"
   ]
  },
  {
   "cell_type": "markdown",
   "metadata": {},
   "source": [
    "**What are the top 30 most frequently purchased items?**"
   ]
  },
  {
   "cell_type": "code",
   "execution_count": 306,
   "metadata": {},
   "outputs": [
    {
     "data": {
      "text/plain": [
       "Text(0.5, 0, 'Product Code')"
      ]
     },
     "execution_count": 306,
     "metadata": {},
     "output_type": "execute_result"
    },
    {
     "data": {
      "image/png": "[encoded data removed]",
      "text/plain": [
       "<Figure size 864x360 with 1 Axes>"
      ]
     },
     "metadata": {
      "needs_background": "light"
     },
     "output_type": "display_data"
    }
   ],
   "source": [
    "top_customers['PROD_CODE'].value_counts().head(30).plot.bar(figsize=(12,5))\n",
    "plt.ylabel('frequency')\n",
    "plt.xlabel('Product Code')"
   ]
  },
  {
   "cell_type": "markdown",
   "metadata": {},
   "source": [
    "**What are those stores with most purchase**"
   ]
  },
  {
   "cell_type": "code",
   "execution_count": 311,
   "metadata": {},
   "outputs": [
    {
     "data": {
      "text/plain": [
       "Text(0.5, 0, 'Store Region')"
      ]
     },
     "execution_count": 311,
     "metadata": {},
     "output_type": "execute_result"
    },
    {
     "data": {
      "image/png": "[encoded data removed]",
      "text/plain": [
       "<Figure size 864x360 with 1 Axes>"
      ]
     },
     "metadata": {
      "needs_background": "light"
     },
     "output_type": "display_data"
    }
   ],
   "source": [
    "top_customers['STORE_REGION'].value_counts().head(30).plot.bar(figsize=(12,5))\n",
    "plt.ylabel('frequency')\n",
    "plt.xlabel('Store Region')"
   ]
  },
  {
   "cell_type": "markdown",
   "metadata": {},
   "source": [
    "**What are stores with most purchase value**"
   ]
  },
  {
   "cell_type": "code",
   "execution_count": 316,
   "metadata": {},
   "outputs": [
    {
     "data": {
      "text/plain": [
       "Text(0.5, 0, 'Store Region')"
      ]
     },
     "execution_count": 316,
     "metadata": {},
     "output_type": "execute_result"
    },
    {
     "data": {
      "image/png": "[encoded data removed]",
      "text/plain": [
       "<Figure size 432x288 with 1 Axes>"
      ]
     },
     "metadata": {
      "needs_background": "light"
     },
     "output_type": "display_data"
    }
   ],
   "source": [
    "top_customers.groupby('STORE_REGION').sum()['TOTAL_PRICE'].sort_values(ascending=False).plot.bar()\n",
    "plt.ylabel('Total Revenue')\n",
    "plt.xlabel('Store Region')"
   ]
  },
  {
   "cell_type": "markdown",
   "metadata": {},
   "source": [
    "**Are those stores with most purchases, also the ones produced higher revenue?**\n",
    "\n",
    "*Answer: Yes for the first top four stores*"
   ]
  },
  {
   "cell_type": "markdown",
   "metadata": {},
   "source": [
    "**Which store formats produced more revenue?**"
   ]
  },
  {
   "cell_type": "code",
   "execution_count": 317,
   "metadata": {},
   "outputs": [
    {
     "data": {
      "text/plain": [
       "Text(0.5, 0, 'Store Format')"
      ]
     },
     "execution_count": 317,
     "metadata": {},
     "output_type": "execute_result"
    },
    {
     "data": {
      "image/png": "[encoded data removed]",
      "text/plain": [
       "<Figure size 432x288 with 1 Axes>"
      ]
     },
     "metadata": {
      "needs_background": "light"
     },
     "output_type": "display_data"
    }
   ],
   "source": [
    "top_customers.groupby('STORE_FORMAT').sum()['TOTAL_PRICE'].sort_values(ascending=False).plot.bar()\n",
    "plt.ylabel('Total Revenue')\n",
    "plt.xlabel('Store Format')"
   ]
  },
  {
   "cell_type": "markdown",
   "metadata": {},
   "source": [
    "**What are BASKET_DOMINANT_MISSIONs from which most revenue is generated?**"
   ]
  },
  {
   "cell_type": "code",
   "execution_count": 319,
   "metadata": {},
   "outputs": [
    {
     "data": {
      "text/plain": [
       "Text(0.5, 0, 'BASKET_DOMINANT_MISSION')"
      ]
     },
     "execution_count": 319,
     "metadata": {},
     "output_type": "execute_result"
    },
    {
     "data": {
      "image/png": "[encoded data removed]",
      "text/plain": [
       "<Figure size 432x288 with 1 Axes>"
      ]
     },
     "metadata": {
      "needs_background": "light"
     },
     "output_type": "display_data"
    }
   ],
   "source": [
    "top_customers.groupby('BASKET_DOMINANT_MISSION').sum()['TOTAL_PRICE'].sort_values(ascending=False).plot.bar()\n",
    "plt.ylabel('Total Revenue')\n",
    "plt.xlabel('BASKET_DOMINANT_MISSION')"
   ]
  },
  {
   "cell_type": "markdown",
   "metadata": {},
   "source": [
    "**What is the purchase distribution of different BASKET_DOMINANT_MISSIONs in stores with different formats?**"
   ]
  },
  {
   "cell_type": "code",
   "execution_count": 359,
   "metadata": {},
   "outputs": [
    {
     "name": "stderr",
     "output_type": "stream",
     "text": [
      "C:\\Users\\Mehdi\\Anaconda3\\lib\\site-packages\\seaborn\\axisgrid.py:715: UserWarning: Using the barplot function without specifying `order` is likely to produce an incorrect plot.\n",
      "  warnings.warn(warning)\n"
     ]
    },
    {
     "data": {
      "image/png": "[encoded data removed]",
      "text/plain": [
       "<Figure size 432x864 with 4 Axes>"
      ]
     },
     "metadata": {
      "needs_background": "light"
     },
     "output_type": "display_data"
    }
   ],
   "source": [
    "g=sns.FacetGrid(row='STORE_FORMAT', data=top_customers, aspect=2, height=3)\n",
    "g.map(sns.barplot, 'BASKET_DOMINANT_MISSION', 'TOTAL_PRICE')\n",
    "plt.tight_layout()"
   ]
  },
  {
   "cell_type": "markdown",
   "metadata": {},
   "source": [
    "**What is the relationship between customer lifestage and total revenue produced from customer?** "
   ]
  },
  {
   "cell_type": "code",
   "execution_count": 370,
   "metadata": {},
   "outputs": [
    {
     "data": {
      "text/plain": [
       "<matplotlib.axes._subplots.AxesSubplot at 0x1b073a87048>"
      ]
     },
     "execution_count": 370,
     "metadata": {},
     "output_type": "execute_result"
    },
    {
     "data": {
      "image/png": "[encoded data removed]",
      "text/plain": [
       "<Figure size 432x288 with 1 Axes>"
      ]
     },
     "metadata": {
      "needs_background": "light"
     },
     "output_type": "display_data"
    }
   ],
   "source": [
    "top_customers.groupby('CUST_LIFESTAGE').sum()['TOTAL_PRICE'].sort_values(ascending=False).plot.bar()"
   ]
  },
  {
   "cell_type": "code",
   "execution_count": null,
   "metadata": {},
   "outputs": [],
   "source": []
  },
  {
   "cell_type": "code",
   "execution_count": null,
   "metadata": {},
   "outputs": [],
   "source": []
  }
 ],
 "metadata": {
  "kernelspec": {
   "display_name": "Python 3",
   "language": "python",
   "name": "python3"
  },
  "language_info": {
   "codemirror_mode": {
    "name": "ipython",
    "version": 3
   },
   "file_extension": ".py",
   "mimetype": "text/x-python",
   "name": "python",
   "nbconvert_exporter": "python",
   "pygments_lexer": "ipython3",
   "version": "3.7.4"
  }
 },
 "nbformat": 4,
 "nbformat_minor": 2
}
